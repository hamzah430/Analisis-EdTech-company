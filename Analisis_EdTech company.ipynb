{
 "cells": [
  {
   "cell_type": "markdown",
   "id": "764d1e0a",
   "metadata": {},
   "source": [
    "# Dataset provided contains:\n",
    "- Basic details of leads\n",
    "- Hierarchy structure of sales managers and their assigned leads\n",
    "- Lead interaction details\n",
    "- Demo watched details of leads\n",
    "- Reason for not being interested\n",
    "1. lead_basic_details: Contains details of the leads.\n",
    "\n",
    "2. sales_managers_assigned_leads_details: Contains the details of the senior and junior sales managers and their assigned leads.\n",
    "\n",
    "    - Each senior sales manager is assigned to 4 junior sales managers.\n",
    "    - Each junior sales manager is assigned few leads in each cycle (a cycle is approximately a week).\n",
    "3. leads_interaction_details: Contains the details of call interactions of junior sales managers with the leads.\n",
    "\n",
    "    - A lead can drop out at any stage of the flow. If there is no call by the junior sales manager to the lead after a certain stage then the lead is considered as dropped at that stage.\n",
    "4. leads_demo_watched_details: Contains the details of the demo session watched by the leads.\n",
    "\n",
    "5. leads_reasons_for_no_interest: Contains the details of the reasons given by the leads for their lack of interest.\n",
    "\n",
    "# Tables Description\n",
    "1. lead_basic_details\n",
    "    - lead_id: unique id of the lead [string]\n",
    "    - age: age of the lead [int]\n",
    "    - gender: gender of the lead [string]\n",
    "    - current_city: city of residence of the lead [string]\n",
    "    - current_education: current education details of the lead [string]\n",
    "    - parent_occupation: occupation of the parent of the lead [string]\n",
    "    - lead_gen_source: source from which the lead is generated [string]\n",
    "2. sales_managers_assigned_leads_details\n",
    "    - snr_sm_id: unique id of the senior sales manager [string]\n",
    "    - jnr_sm_id: unique id of the junior sales manager [string]\n",
    "    - assigned_date: date at which certain leads are assigned to junior sales manager [date]\n",
    "    - cycle: cycle in which the lead is assigned [string]\n",
    "    - lead_id: unique id of the lead [string]\n",
    "3. leads_interaction_details:\n",
    "    - jnr_sm_id: unique id of the junior sales manager [string]\n",
    "    - lead_id: unique id of the lead [string]\n",
    "    - lead_stage: stage of the lead when contacted by junior sales manager [string]\n",
    "        - Stage can be “lead”, “awareness”, “consideration”, “conversion”\n",
    "    - call_done_date: date of call done to lead by junior sales manager [date]\n",
    "    - call_status: status of the call made to the lead [string]\n",
    "        - If lead answers the call then “successful”\n",
    "        - In all other cases “unsuccessful”\n",
    "    - call_reason: reason for calling the lead [string]\n",
    "        - The reason depends on the stage lead is in.\n",
    "        - If lead is in “lead” stage, then reasons could be\n",
    "            - lead_introduction\n",
    "            - demo_scheduled\n",
    "            - demo_not_attended\n",
    "        - If lead is in “awareness” stage, then reasons could be\n",
    "            - after_demo_followup\n",
    "            - followup_for_consideration\n",
    "        - if lead is in “consideration” stage, then reasons could be\n",
    "            - interested_for_conversion\n",
    "            - followup_for_conversion\n",
    "        - if lead is in “conversion” stage, then reasons could be\n",
    "            - successful_conversion\n",
    "4. leads_demo_watched_details\n",
    "    - lead_id: unique id of the lead [string]\n",
    "    - demo_watched_date: date at which demo session is watched by the lead [date]\n",
    "    - language: language in which the demo session is watched by the lead [string]\n",
    "        - It can be “English”, “Telugu” or “Hindi”\n",
    "    - watched_percentage: percentage of the session watched by the lead (out of 100) [float]\n",
    "5. leads_reasons_for_no_interest\n",
    "    - lead_id: unique id of the lead [string]\n",
    "    - reasons_for_not_interested_in_demo: the reason stated by the lead for their lack of interest in watching the demo session. [string]\n",
    "    - reasons_for_not_interested_in_consideration: the reason stated by the lead for not considering the product as a solution. [string]\n",
    "    - reasons_for_not_interested_in_conversion: the reason stated by the lead for not converting. [string]"
   ]
  },
  {
   "cell_type": "markdown",
   "id": "1fc927e9",
   "metadata": {},
   "source": [
    "## Pertanyaan\n",
    "Lakukan diskusi dan identifikasi metrik yang tepat dan susunlah pertanyaan yang tepat untuk analisis. Analisis Anda harus membantu Anda\n",
    "1. Tim bisnis untuk memahami perjalanan dan tahapan prospek dengan ruang lingkup untuk perbaikan\n",
    "2. Kepala bisnis untuk memahami kinerja tim mereka\n",
    "3. Manajer untuk memahami area target mereka\n",
    "Jika Anda mengidentifikasi adanya outlier dalam kumpulan data, catatlah dan keluarkan dari analisis Anda.\n",
    "Buatlah dasbor yang paling sesuai untuk menyajikan wawasan Anda.\n",
    "Rekomendasi Anda harus didukung oleh wawasan data dan visualisasi profesional untuk membantu tim bisnis Anda merancang peta jalan, strategi, dan item tindakan untuk mencapai tujuan mereka."
   ]
  },
  {
   "cell_type": "code",
   "execution_count": 1,
   "id": "7f161c40",
   "metadata": {},
   "outputs": [],
   "source": [
    "import pandas as pd \n",
    "import matplotlib.pyplot as plt"
   ]
  },
  {
   "cell_type": "code",
   "execution_count": 2,
   "id": "653adb18",
   "metadata": {},
   "outputs": [],
   "source": [
    "df1 = pd.read_csv('leads_basic_details.csv')\n",
    "df2 = pd.read_csv('sales_managers_assigned_leads_details.csv')\n",
    "df3 = pd.read_csv('leads_interaction_details.csv')\n",
    "df4 = pd.read_csv('leads_demo_watched_details.csv')\n",
    "df5 = pd.read_csv('leads_reasons_for_no_interest.csv')"
   ]
  },
  {
   "cell_type": "code",
   "execution_count": 3,
   "id": "464edf03",
   "metadata": {},
   "outputs": [
    {
     "data": {
      "text/html": [
       "<div>\n",
       "<style scoped>\n",
       "    .dataframe tbody tr th:only-of-type {\n",
       "        vertical-align: middle;\n",
       "    }\n",
       "\n",
       "    .dataframe tbody tr th {\n",
       "        vertical-align: top;\n",
       "    }\n",
       "\n",
       "    .dataframe thead th {\n",
       "        text-align: right;\n",
       "    }\n",
       "</style>\n",
       "<table border=\"1\" class=\"dataframe\">\n",
       "  <thead>\n",
       "    <tr style=\"text-align: right;\">\n",
       "      <th></th>\n",
       "      <th>lead_id</th>\n",
       "      <th>age</th>\n",
       "      <th>gender</th>\n",
       "      <th>current_city</th>\n",
       "      <th>current_education</th>\n",
       "      <th>parent_occupation</th>\n",
       "      <th>lead_gen_source</th>\n",
       "    </tr>\n",
       "  </thead>\n",
       "  <tbody>\n",
       "    <tr>\n",
       "      <th>0</th>\n",
       "      <td>USR1001</td>\n",
       "      <td>16</td>\n",
       "      <td>FEMALE</td>\n",
       "      <td>Hyderabad</td>\n",
       "      <td>Intermediate</td>\n",
       "      <td>Private Employee</td>\n",
       "      <td>social_media</td>\n",
       "    </tr>\n",
       "    <tr>\n",
       "      <th>1</th>\n",
       "      <td>USR1002</td>\n",
       "      <td>20</td>\n",
       "      <td>MALE</td>\n",
       "      <td>Bengaluru</td>\n",
       "      <td>B.Tech</td>\n",
       "      <td>Business</td>\n",
       "      <td>user_referrals</td>\n",
       "    </tr>\n",
       "    <tr>\n",
       "      <th>2</th>\n",
       "      <td>USR1003</td>\n",
       "      <td>20</td>\n",
       "      <td>FEMALE</td>\n",
       "      <td>Visakhapatnam</td>\n",
       "      <td>B.Tech</td>\n",
       "      <td>Lawyer</td>\n",
       "      <td>user_referrals</td>\n",
       "    </tr>\n",
       "    <tr>\n",
       "      <th>3</th>\n",
       "      <td>USR1004</td>\n",
       "      <td>16</td>\n",
       "      <td>MALE</td>\n",
       "      <td>Mumbai</td>\n",
       "      <td>Intermediate</td>\n",
       "      <td>IT Employee</td>\n",
       "      <td>user_referrals</td>\n",
       "    </tr>\n",
       "    <tr>\n",
       "      <th>4</th>\n",
       "      <td>USR1005</td>\n",
       "      <td>16</td>\n",
       "      <td>MALE</td>\n",
       "      <td>Chennai</td>\n",
       "      <td>Intermediate</td>\n",
       "      <td>Government Employee</td>\n",
       "      <td>user_referrals</td>\n",
       "    </tr>\n",
       "    <tr>\n",
       "      <th>...</th>\n",
       "      <td>...</td>\n",
       "      <td>...</td>\n",
       "      <td>...</td>\n",
       "      <td>...</td>\n",
       "      <td>...</td>\n",
       "      <td>...</td>\n",
       "      <td>...</td>\n",
       "    </tr>\n",
       "    <tr>\n",
       "      <th>355</th>\n",
       "      <td>USR1356</td>\n",
       "      <td>21</td>\n",
       "      <td>MALE</td>\n",
       "      <td>Mumbai</td>\n",
       "      <td>Degree</td>\n",
       "      <td>Government Employee</td>\n",
       "      <td>user_referrals</td>\n",
       "    </tr>\n",
       "    <tr>\n",
       "      <th>356</th>\n",
       "      <td>USR1357</td>\n",
       "      <td>22</td>\n",
       "      <td>MALE</td>\n",
       "      <td>Chennai</td>\n",
       "      <td>Looking for Job</td>\n",
       "      <td>Government Employee</td>\n",
       "      <td>website</td>\n",
       "    </tr>\n",
       "    <tr>\n",
       "      <th>357</th>\n",
       "      <td>USR1358</td>\n",
       "      <td>25</td>\n",
       "      <td>MALE</td>\n",
       "      <td>Chennai</td>\n",
       "      <td>B.Tech</td>\n",
       "      <td>Government Employee</td>\n",
       "      <td>SEO</td>\n",
       "    </tr>\n",
       "    <tr>\n",
       "      <th>358</th>\n",
       "      <td>USR1359</td>\n",
       "      <td>18</td>\n",
       "      <td>FEMALE</td>\n",
       "      <td>Mumbai</td>\n",
       "      <td>B.Tech</td>\n",
       "      <td>Government Employee</td>\n",
       "      <td>email_marketing</td>\n",
       "    </tr>\n",
       "    <tr>\n",
       "      <th>359</th>\n",
       "      <td>USR1360</td>\n",
       "      <td>16</td>\n",
       "      <td>MALE</td>\n",
       "      <td>Mumbai</td>\n",
       "      <td>Intermediate</td>\n",
       "      <td>Government Employee</td>\n",
       "      <td>social_media</td>\n",
       "    </tr>\n",
       "  </tbody>\n",
       "</table>\n",
       "<p>360 rows × 7 columns</p>\n",
       "</div>"
      ],
      "text/plain": [
       "     lead_id  age  gender   current_city current_education  \\\n",
       "0    USR1001   16  FEMALE      Hyderabad      Intermediate   \n",
       "1    USR1002   20    MALE      Bengaluru            B.Tech   \n",
       "2    USR1003   20  FEMALE  Visakhapatnam            B.Tech   \n",
       "3    USR1004   16    MALE         Mumbai      Intermediate   \n",
       "4    USR1005   16    MALE        Chennai      Intermediate   \n",
       "..       ...  ...     ...            ...               ...   \n",
       "355  USR1356   21    MALE         Mumbai            Degree   \n",
       "356  USR1357   22    MALE        Chennai   Looking for Job   \n",
       "357  USR1358   25    MALE        Chennai            B.Tech   \n",
       "358  USR1359   18  FEMALE         Mumbai            B.Tech   \n",
       "359  USR1360   16    MALE         Mumbai      Intermediate   \n",
       "\n",
       "       parent_occupation  lead_gen_source  \n",
       "0       Private Employee     social_media  \n",
       "1               Business   user_referrals  \n",
       "2                 Lawyer   user_referrals  \n",
       "3            IT Employee   user_referrals  \n",
       "4    Government Employee   user_referrals  \n",
       "..                   ...              ...  \n",
       "355  Government Employee   user_referrals  \n",
       "356  Government Employee          website  \n",
       "357  Government Employee              SEO  \n",
       "358  Government Employee  email_marketing  \n",
       "359  Government Employee     social_media  \n",
       "\n",
       "[360 rows x 7 columns]"
      ]
     },
     "execution_count": 3,
     "metadata": {},
     "output_type": "execute_result"
    }
   ],
   "source": [
    "df1"
   ]
  },
  {
   "cell_type": "code",
   "execution_count": 4,
   "id": "3acc81bb",
   "metadata": {},
   "outputs": [
    {
     "data": {
      "text/html": [
       "<div>\n",
       "<style scoped>\n",
       "    .dataframe tbody tr th:only-of-type {\n",
       "        vertical-align: middle;\n",
       "    }\n",
       "\n",
       "    .dataframe tbody tr th {\n",
       "        vertical-align: top;\n",
       "    }\n",
       "\n",
       "    .dataframe thead th {\n",
       "        text-align: right;\n",
       "    }\n",
       "</style>\n",
       "<table border=\"1\" class=\"dataframe\">\n",
       "  <thead>\n",
       "    <tr style=\"text-align: right;\">\n",
       "      <th></th>\n",
       "      <th>snr_sm_id</th>\n",
       "      <th>jnr_sm_id</th>\n",
       "      <th>assigned_date</th>\n",
       "      <th>cycle</th>\n",
       "      <th>lead_id</th>\n",
       "    </tr>\n",
       "  </thead>\n",
       "  <tbody>\n",
       "    <tr>\n",
       "      <th>0</th>\n",
       "      <td>SNR501MG</td>\n",
       "      <td>JNR1001MG</td>\n",
       "      <td>1/1/2022</td>\n",
       "      <td>1</td>\n",
       "      <td>USR1001</td>\n",
       "    </tr>\n",
       "    <tr>\n",
       "      <th>1</th>\n",
       "      <td>SNR501MG</td>\n",
       "      <td>JNR1001MG</td>\n",
       "      <td>1/1/2022</td>\n",
       "      <td>1</td>\n",
       "      <td>USR1002</td>\n",
       "    </tr>\n",
       "    <tr>\n",
       "      <th>2</th>\n",
       "      <td>SNR501MG</td>\n",
       "      <td>JNR1001MG</td>\n",
       "      <td>1/1/2022</td>\n",
       "      <td>1</td>\n",
       "      <td>USR1003</td>\n",
       "    </tr>\n",
       "    <tr>\n",
       "      <th>3</th>\n",
       "      <td>SNR501MG</td>\n",
       "      <td>JNR1001MG</td>\n",
       "      <td>1/1/2022</td>\n",
       "      <td>1</td>\n",
       "      <td>USR1004</td>\n",
       "    </tr>\n",
       "    <tr>\n",
       "      <th>4</th>\n",
       "      <td>SNR501MG</td>\n",
       "      <td>JNR1001MG</td>\n",
       "      <td>1/1/2022</td>\n",
       "      <td>1</td>\n",
       "      <td>USR1005</td>\n",
       "    </tr>\n",
       "    <tr>\n",
       "      <th>...</th>\n",
       "      <td>...</td>\n",
       "      <td>...</td>\n",
       "      <td>...</td>\n",
       "      <td>...</td>\n",
       "      <td>...</td>\n",
       "    </tr>\n",
       "    <tr>\n",
       "      <th>355</th>\n",
       "      <td>SNR501MG</td>\n",
       "      <td>JNR1001MG</td>\n",
       "      <td>2/19/2022</td>\n",
       "      <td>4</td>\n",
       "      <td>USR1356</td>\n",
       "    </tr>\n",
       "    <tr>\n",
       "      <th>356</th>\n",
       "      <td>SNR501MG</td>\n",
       "      <td>JNR1001MG</td>\n",
       "      <td>1/1/2022</td>\n",
       "      <td>1</td>\n",
       "      <td>USR1357</td>\n",
       "    </tr>\n",
       "    <tr>\n",
       "      <th>357</th>\n",
       "      <td>SNR501MG</td>\n",
       "      <td>JNR1001MG</td>\n",
       "      <td>1/8/2022</td>\n",
       "      <td>2</td>\n",
       "      <td>USR1358</td>\n",
       "    </tr>\n",
       "    <tr>\n",
       "      <th>358</th>\n",
       "      <td>SNR501MG</td>\n",
       "      <td>JNR1001MG</td>\n",
       "      <td>1/15/2022</td>\n",
       "      <td>3</td>\n",
       "      <td>USR1359</td>\n",
       "    </tr>\n",
       "    <tr>\n",
       "      <th>359</th>\n",
       "      <td>SNR501MG</td>\n",
       "      <td>JNR1001MG</td>\n",
       "      <td>2/19/2022</td>\n",
       "      <td>4</td>\n",
       "      <td>USR1360</td>\n",
       "    </tr>\n",
       "  </tbody>\n",
       "</table>\n",
       "<p>360 rows × 5 columns</p>\n",
       "</div>"
      ],
      "text/plain": [
       "    snr_sm_id  jnr_sm_id assigned_date  cycle  lead_id\n",
       "0    SNR501MG  JNR1001MG      1/1/2022      1  USR1001\n",
       "1    SNR501MG  JNR1001MG      1/1/2022      1  USR1002\n",
       "2    SNR501MG  JNR1001MG      1/1/2022      1  USR1003\n",
       "3    SNR501MG  JNR1001MG      1/1/2022      1  USR1004\n",
       "4    SNR501MG  JNR1001MG      1/1/2022      1  USR1005\n",
       "..        ...        ...           ...    ...      ...\n",
       "355  SNR501MG  JNR1001MG     2/19/2022      4  USR1356\n",
       "356  SNR501MG  JNR1001MG      1/1/2022      1  USR1357\n",
       "357  SNR501MG  JNR1001MG      1/8/2022      2  USR1358\n",
       "358  SNR501MG  JNR1001MG     1/15/2022      3  USR1359\n",
       "359  SNR501MG  JNR1001MG     2/19/2022      4  USR1360\n",
       "\n",
       "[360 rows x 5 columns]"
      ]
     },
     "execution_count": 4,
     "metadata": {},
     "output_type": "execute_result"
    }
   ],
   "source": [
    "df2"
   ]
  },
  {
   "cell_type": "code",
   "execution_count": 5,
   "id": "865cdb53",
   "metadata": {},
   "outputs": [
    {
     "data": {
      "text/html": [
       "<div>\n",
       "<style scoped>\n",
       "    .dataframe tbody tr th:only-of-type {\n",
       "        vertical-align: middle;\n",
       "    }\n",
       "\n",
       "    .dataframe tbody tr th {\n",
       "        vertical-align: top;\n",
       "    }\n",
       "\n",
       "    .dataframe thead th {\n",
       "        text-align: right;\n",
       "    }\n",
       "</style>\n",
       "<table border=\"1\" class=\"dataframe\">\n",
       "  <thead>\n",
       "    <tr style=\"text-align: right;\">\n",
       "      <th></th>\n",
       "      <th>jnr_sm_id</th>\n",
       "      <th>lead_id</th>\n",
       "      <th>lead_stage</th>\n",
       "      <th>call_done_date</th>\n",
       "      <th>call_status</th>\n",
       "      <th>call_reason</th>\n",
       "    </tr>\n",
       "  </thead>\n",
       "  <tbody>\n",
       "    <tr>\n",
       "      <th>0</th>\n",
       "      <td>JNR1001MG</td>\n",
       "      <td>USR1001</td>\n",
       "      <td>lead</td>\n",
       "      <td>1/2/2022</td>\n",
       "      <td>successful</td>\n",
       "      <td>lead_introduction</td>\n",
       "    </tr>\n",
       "    <tr>\n",
       "      <th>1</th>\n",
       "      <td>JNR1001MG</td>\n",
       "      <td>USR1001</td>\n",
       "      <td>lead</td>\n",
       "      <td>1/2/2022</td>\n",
       "      <td>successful</td>\n",
       "      <td>demo_schedule</td>\n",
       "    </tr>\n",
       "    <tr>\n",
       "      <th>2</th>\n",
       "      <td>JNR1001MG</td>\n",
       "      <td>USR1002</td>\n",
       "      <td>lead</td>\n",
       "      <td>1/3/2022</td>\n",
       "      <td>successful</td>\n",
       "      <td>lead_introduction</td>\n",
       "    </tr>\n",
       "    <tr>\n",
       "      <th>3</th>\n",
       "      <td>JNR1001MG</td>\n",
       "      <td>USR1002</td>\n",
       "      <td>lead</td>\n",
       "      <td>1/4/2022</td>\n",
       "      <td>successful</td>\n",
       "      <td>demo_schedule</td>\n",
       "    </tr>\n",
       "    <tr>\n",
       "      <th>4</th>\n",
       "      <td>JNR1001MG</td>\n",
       "      <td>USR1002</td>\n",
       "      <td>awareness</td>\n",
       "      <td>1/5/2022</td>\n",
       "      <td>successful</td>\n",
       "      <td>post_demo_followup</td>\n",
       "    </tr>\n",
       "    <tr>\n",
       "      <th>...</th>\n",
       "      <td>...</td>\n",
       "      <td>...</td>\n",
       "      <td>...</td>\n",
       "      <td>...</td>\n",
       "      <td>...</td>\n",
       "      <td>...</td>\n",
       "    </tr>\n",
       "    <tr>\n",
       "      <th>2187</th>\n",
       "      <td>JNR1001MG</td>\n",
       "      <td>USR1356</td>\n",
       "      <td>lead</td>\n",
       "      <td>2/21/2022</td>\n",
       "      <td>unsuccessful</td>\n",
       "      <td>lead_introduction</td>\n",
       "    </tr>\n",
       "    <tr>\n",
       "      <th>2188</th>\n",
       "      <td>JNR1001MG</td>\n",
       "      <td>USR1357</td>\n",
       "      <td>lead</td>\n",
       "      <td>1/8/2022</td>\n",
       "      <td>unsuccessful</td>\n",
       "      <td>lead_introduction</td>\n",
       "    </tr>\n",
       "    <tr>\n",
       "      <th>2189</th>\n",
       "      <td>JNR1001MG</td>\n",
       "      <td>USR1358</td>\n",
       "      <td>lead</td>\n",
       "      <td>1/12/2022</td>\n",
       "      <td>unsuccessful</td>\n",
       "      <td>lead_introduction</td>\n",
       "    </tr>\n",
       "    <tr>\n",
       "      <th>2190</th>\n",
       "      <td>JNR1001MG</td>\n",
       "      <td>USR1359</td>\n",
       "      <td>lead</td>\n",
       "      <td>1/22/2022</td>\n",
       "      <td>unsuccessful</td>\n",
       "      <td>lead_introduction</td>\n",
       "    </tr>\n",
       "    <tr>\n",
       "      <th>2191</th>\n",
       "      <td>JNR1001MG</td>\n",
       "      <td>USR1360</td>\n",
       "      <td>lead</td>\n",
       "      <td>2/21/2022</td>\n",
       "      <td>unsuccessful</td>\n",
       "      <td>lead_introduction</td>\n",
       "    </tr>\n",
       "  </tbody>\n",
       "</table>\n",
       "<p>2192 rows × 6 columns</p>\n",
       "</div>"
      ],
      "text/plain": [
       "      jnr_sm_id  lead_id lead_stage call_done_date   call_status  \\\n",
       "0     JNR1001MG  USR1001       lead       1/2/2022    successful   \n",
       "1     JNR1001MG  USR1001       lead       1/2/2022    successful   \n",
       "2     JNR1001MG  USR1002       lead       1/3/2022    successful   \n",
       "3     JNR1001MG  USR1002       lead       1/4/2022    successful   \n",
       "4     JNR1001MG  USR1002  awareness       1/5/2022    successful   \n",
       "...         ...      ...        ...            ...           ...   \n",
       "2187  JNR1001MG  USR1356       lead      2/21/2022  unsuccessful   \n",
       "2188  JNR1001MG  USR1357       lead       1/8/2022  unsuccessful   \n",
       "2189  JNR1001MG  USR1358       lead      1/12/2022  unsuccessful   \n",
       "2190  JNR1001MG  USR1359       lead      1/22/2022  unsuccessful   \n",
       "2191  JNR1001MG  USR1360       lead      2/21/2022  unsuccessful   \n",
       "\n",
       "             call_reason  \n",
       "0      lead_introduction  \n",
       "1          demo_schedule  \n",
       "2      lead_introduction  \n",
       "3          demo_schedule  \n",
       "4     post_demo_followup  \n",
       "...                  ...  \n",
       "2187   lead_introduction  \n",
       "2188   lead_introduction  \n",
       "2189   lead_introduction  \n",
       "2190   lead_introduction  \n",
       "2191   lead_introduction  \n",
       "\n",
       "[2192 rows x 6 columns]"
      ]
     },
     "execution_count": 5,
     "metadata": {},
     "output_type": "execute_result"
    }
   ],
   "source": [
    "df3"
   ]
  },
  {
   "cell_type": "code",
   "execution_count": 6,
   "id": "a5d93e72",
   "metadata": {},
   "outputs": [
    {
     "data": {
      "text/html": [
       "<div>\n",
       "<style scoped>\n",
       "    .dataframe tbody tr th:only-of-type {\n",
       "        vertical-align: middle;\n",
       "    }\n",
       "\n",
       "    .dataframe tbody tr th {\n",
       "        vertical-align: top;\n",
       "    }\n",
       "\n",
       "    .dataframe thead th {\n",
       "        text-align: right;\n",
       "    }\n",
       "</style>\n",
       "<table border=\"1\" class=\"dataframe\">\n",
       "  <thead>\n",
       "    <tr style=\"text-align: right;\">\n",
       "      <th></th>\n",
       "      <th>lead_id</th>\n",
       "      <th>demo_watched_date</th>\n",
       "      <th>language</th>\n",
       "      <th>watched_percentage</th>\n",
       "    </tr>\n",
       "  </thead>\n",
       "  <tbody>\n",
       "    <tr>\n",
       "      <th>0</th>\n",
       "      <td>USR1002</td>\n",
       "      <td>1/4/2022</td>\n",
       "      <td>Telugu</td>\n",
       "      <td>42</td>\n",
       "    </tr>\n",
       "    <tr>\n",
       "      <th>1</th>\n",
       "      <td>USR1003</td>\n",
       "      <td>1/7/2022</td>\n",
       "      <td>Telugu</td>\n",
       "      <td>81</td>\n",
       "    </tr>\n",
       "    <tr>\n",
       "      <th>2</th>\n",
       "      <td>USR1004</td>\n",
       "      <td>1/2/2022</td>\n",
       "      <td>Telugu</td>\n",
       "      <td>35</td>\n",
       "    </tr>\n",
       "    <tr>\n",
       "      <th>3</th>\n",
       "      <td>USR1005</td>\n",
       "      <td>1/3/2022</td>\n",
       "      <td>Hindi</td>\n",
       "      <td>38</td>\n",
       "    </tr>\n",
       "    <tr>\n",
       "      <th>4</th>\n",
       "      <td>USR1006</td>\n",
       "      <td>1/12/2022</td>\n",
       "      <td>Hindi</td>\n",
       "      <td>54</td>\n",
       "    </tr>\n",
       "    <tr>\n",
       "      <th>...</th>\n",
       "      <td>...</td>\n",
       "      <td>...</td>\n",
       "      <td>...</td>\n",
       "      <td>...</td>\n",
       "    </tr>\n",
       "    <tr>\n",
       "      <th>189</th>\n",
       "      <td>USR1317</td>\n",
       "      <td>2/25/2022</td>\n",
       "      <td>English</td>\n",
       "      <td>48</td>\n",
       "    </tr>\n",
       "    <tr>\n",
       "      <th>190</th>\n",
       "      <td>USR1318</td>\n",
       "      <td>2/25/2022</td>\n",
       "      <td>English</td>\n",
       "      <td>83</td>\n",
       "    </tr>\n",
       "    <tr>\n",
       "      <th>191</th>\n",
       "      <td>USR1319</td>\n",
       "      <td>2/28/2022</td>\n",
       "      <td>English</td>\n",
       "      <td>84</td>\n",
       "    </tr>\n",
       "    <tr>\n",
       "      <th>192</th>\n",
       "      <td>USR1343</td>\n",
       "      <td>1/25/2022</td>\n",
       "      <td>English</td>\n",
       "      <td>68</td>\n",
       "    </tr>\n",
       "    <tr>\n",
       "      <th>193</th>\n",
       "      <td>USR1348</td>\n",
       "      <td>2/27/2022</td>\n",
       "      <td>English</td>\n",
       "      <td>72</td>\n",
       "    </tr>\n",
       "  </tbody>\n",
       "</table>\n",
       "<p>194 rows × 4 columns</p>\n",
       "</div>"
      ],
      "text/plain": [
       "     lead_id demo_watched_date language  watched_percentage\n",
       "0    USR1002          1/4/2022   Telugu                  42\n",
       "1    USR1003          1/7/2022   Telugu                  81\n",
       "2    USR1004          1/2/2022   Telugu                  35\n",
       "3    USR1005          1/3/2022    Hindi                  38\n",
       "4    USR1006         1/12/2022    Hindi                  54\n",
       "..       ...               ...      ...                 ...\n",
       "189  USR1317         2/25/2022  English                  48\n",
       "190  USR1318         2/25/2022  English                  83\n",
       "191  USR1319         2/28/2022  English                  84\n",
       "192  USR1343         1/25/2022  English                  68\n",
       "193  USR1348         2/27/2022  English                  72\n",
       "\n",
       "[194 rows x 4 columns]"
      ]
     },
     "execution_count": 6,
     "metadata": {},
     "output_type": "execute_result"
    }
   ],
   "source": [
    "df4"
   ]
  },
  {
   "cell_type": "code",
   "execution_count": 7,
   "id": "7b0f49ff",
   "metadata": {
    "scrolled": true
   },
   "outputs": [
    {
     "data": {
      "text/html": [
       "<div>\n",
       "<style scoped>\n",
       "    .dataframe tbody tr th:only-of-type {\n",
       "        vertical-align: middle;\n",
       "    }\n",
       "\n",
       "    .dataframe tbody tr th {\n",
       "        vertical-align: top;\n",
       "    }\n",
       "\n",
       "    .dataframe thead th {\n",
       "        text-align: right;\n",
       "    }\n",
       "</style>\n",
       "<table border=\"1\" class=\"dataframe\">\n",
       "  <thead>\n",
       "    <tr style=\"text-align: right;\">\n",
       "      <th></th>\n",
       "      <th>lead_id</th>\n",
       "      <th>reasons_for_not_interested_in_demo</th>\n",
       "      <th>reasons_for_not_interested_to_consider</th>\n",
       "      <th>reasons_for_not_interested_to_convert</th>\n",
       "    </tr>\n",
       "  </thead>\n",
       "  <tbody>\n",
       "    <tr>\n",
       "      <th>0</th>\n",
       "      <td>USR1001</td>\n",
       "      <td>No time for student</td>\n",
       "      <td>NaN</td>\n",
       "      <td>NaN</td>\n",
       "    </tr>\n",
       "    <tr>\n",
       "      <th>1</th>\n",
       "      <td>USR1003</td>\n",
       "      <td>NaN</td>\n",
       "      <td>No time for student</td>\n",
       "      <td>NaN</td>\n",
       "    </tr>\n",
       "    <tr>\n",
       "      <th>2</th>\n",
       "      <td>USR1004</td>\n",
       "      <td>NaN</td>\n",
       "      <td>Wants offline classes</td>\n",
       "      <td>NaN</td>\n",
       "    </tr>\n",
       "    <tr>\n",
       "      <th>3</th>\n",
       "      <td>USR1005</td>\n",
       "      <td>NaN</td>\n",
       "      <td>Can't afford</td>\n",
       "      <td>NaN</td>\n",
       "    </tr>\n",
       "    <tr>\n",
       "      <th>4</th>\n",
       "      <td>USR1006</td>\n",
       "      <td>NaN</td>\n",
       "      <td>Student not interested in domain</td>\n",
       "      <td>NaN</td>\n",
       "    </tr>\n",
       "    <tr>\n",
       "      <th>...</th>\n",
       "      <td>...</td>\n",
       "      <td>...</td>\n",
       "      <td>...</td>\n",
       "      <td>...</td>\n",
       "    </tr>\n",
       "    <tr>\n",
       "      <th>289</th>\n",
       "      <td>USR1356</td>\n",
       "      <td>Cannot afford</td>\n",
       "      <td>NaN</td>\n",
       "      <td>NaN</td>\n",
       "    </tr>\n",
       "    <tr>\n",
       "      <th>290</th>\n",
       "      <td>USR1357</td>\n",
       "      <td>Cannot afford</td>\n",
       "      <td>NaN</td>\n",
       "      <td>NaN</td>\n",
       "    </tr>\n",
       "    <tr>\n",
       "      <th>291</th>\n",
       "      <td>USR1358</td>\n",
       "      <td>Wants offline classes</td>\n",
       "      <td>NaN</td>\n",
       "      <td>NaN</td>\n",
       "    </tr>\n",
       "    <tr>\n",
       "      <th>292</th>\n",
       "      <td>USR1359</td>\n",
       "      <td>Will join in final year</td>\n",
       "      <td>NaN</td>\n",
       "      <td>NaN</td>\n",
       "    </tr>\n",
       "    <tr>\n",
       "      <th>293</th>\n",
       "      <td>USR1360</td>\n",
       "      <td>Will join in final year</td>\n",
       "      <td>NaN</td>\n",
       "      <td>NaN</td>\n",
       "    </tr>\n",
       "  </tbody>\n",
       "</table>\n",
       "<p>294 rows × 4 columns</p>\n",
       "</div>"
      ],
      "text/plain": [
       "     lead_id reasons_for_not_interested_in_demo  \\\n",
       "0    USR1001                No time for student   \n",
       "1    USR1003                                NaN   \n",
       "2    USR1004                                NaN   \n",
       "3    USR1005                                NaN   \n",
       "4    USR1006                                NaN   \n",
       "..       ...                                ...   \n",
       "289  USR1356                      Cannot afford   \n",
       "290  USR1357                      Cannot afford   \n",
       "291  USR1358              Wants offline classes   \n",
       "292  USR1359            Will join in final year   \n",
       "293  USR1360            Will join in final year   \n",
       "\n",
       "    reasons_for_not_interested_to_consider  \\\n",
       "0                                      NaN   \n",
       "1                      No time for student   \n",
       "2                    Wants offline classes   \n",
       "3                             Can't afford   \n",
       "4         Student not interested in domain   \n",
       "..                                     ...   \n",
       "289                                    NaN   \n",
       "290                                    NaN   \n",
       "291                                    NaN   \n",
       "292                                    NaN   \n",
       "293                                    NaN   \n",
       "\n",
       "    reasons_for_not_interested_to_convert  \n",
       "0                                     NaN  \n",
       "1                                     NaN  \n",
       "2                                     NaN  \n",
       "3                                     NaN  \n",
       "4                                     NaN  \n",
       "..                                    ...  \n",
       "289                                   NaN  \n",
       "290                                   NaN  \n",
       "291                                   NaN  \n",
       "292                                   NaN  \n",
       "293                                   NaN  \n",
       "\n",
       "[294 rows x 4 columns]"
      ]
     },
     "execution_count": 7,
     "metadata": {},
     "output_type": "execute_result"
    }
   ],
   "source": [
    "df5"
   ]
  },
  {
   "cell_type": "markdown",
   "id": "a1486e3a",
   "metadata": {},
   "source": [
    "# Leads basic details analysis"
   ]
  },
  {
   "cell_type": "code",
   "execution_count": 8,
   "id": "0633ed14",
   "metadata": {},
   "outputs": [
    {
     "name": "stdout",
     "output_type": "stream",
     "text": [
      "<class 'pandas.core.frame.DataFrame'>\n",
      "RangeIndex: 360 entries, 0 to 359\n",
      "Data columns (total 7 columns):\n",
      " #   Column             Non-Null Count  Dtype \n",
      "---  ------             --------------  ----- \n",
      " 0   lead_id            360 non-null    object\n",
      " 1   age                360 non-null    int64 \n",
      " 2   gender             360 non-null    object\n",
      " 3   current_city       360 non-null    object\n",
      " 4   current_education  360 non-null    object\n",
      " 5   parent_occupation  360 non-null    object\n",
      " 6   lead_gen_source    360 non-null    object\n",
      "dtypes: int64(1), object(6)\n",
      "memory usage: 19.8+ KB\n"
     ]
    }
   ],
   "source": [
    "df1.info()"
   ]
  },
  {
   "cell_type": "code",
   "execution_count": 9,
   "id": "e830f9ba",
   "metadata": {},
   "outputs": [
    {
     "data": {
      "text/plain": [
       "(360, 7)"
      ]
     },
     "execution_count": 9,
     "metadata": {},
     "output_type": "execute_result"
    }
   ],
   "source": [
    "df1.shape"
   ]
  },
  {
   "cell_type": "code",
   "execution_count": 10,
   "id": "3b96903b",
   "metadata": {},
   "outputs": [
    {
     "data": {
      "text/plain": [
       "lead_id              0\n",
       "age                  0\n",
       "gender               0\n",
       "current_city         0\n",
       "current_education    0\n",
       "parent_occupation    0\n",
       "lead_gen_source      0\n",
       "dtype: int64"
      ]
     },
     "execution_count": 10,
     "metadata": {},
     "output_type": "execute_result"
    }
   ],
   "source": [
    "df1.isnull().sum() #check missing values"
   ]
  },
  {
   "cell_type": "code",
   "execution_count": 11,
   "id": "e466acdf",
   "metadata": {},
   "outputs": [
    {
     "data": {
      "text/plain": [
       "<AxesSubplot:>"
      ]
     },
     "execution_count": 11,
     "metadata": {},
     "output_type": "execute_result"
    },
    {
     "data": {
      "image/png": "[encoded data removed]",
      "text/plain": [
       "<Figure size 640x480 with 1 Axes>"
      ]
     },
     "metadata": {},
     "output_type": "display_data"
    }
   ],
   "source": [
    "import seaborn as sns \n",
    "sns.heatmap(df1.isnull(), cbar=False, yticklabels='False', cmap='plasma') #no find missing value"
   ]
  },
  {
   "cell_type": "code",
   "execution_count": 12,
   "id": "22e58090",
   "metadata": {},
   "outputs": [
    {
     "data": {
      "text/html": [
       "<div>\n",
       "<style scoped>\n",
       "    .dataframe tbody tr th:only-of-type {\n",
       "        vertical-align: middle;\n",
       "    }\n",
       "\n",
       "    .dataframe tbody tr th {\n",
       "        vertical-align: top;\n",
       "    }\n",
       "\n",
       "    .dataframe thead th {\n",
       "        text-align: right;\n",
       "    }\n",
       "</style>\n",
       "<table border=\"1\" class=\"dataframe\">\n",
       "  <thead>\n",
       "    <tr style=\"text-align: right;\">\n",
       "      <th></th>\n",
       "      <th>age</th>\n",
       "    </tr>\n",
       "  </thead>\n",
       "  <tbody>\n",
       "    <tr>\n",
       "      <th>count</th>\n",
       "      <td>360.000000</td>\n",
       "    </tr>\n",
       "    <tr>\n",
       "      <th>mean</th>\n",
       "      <td>21.561111</td>\n",
       "    </tr>\n",
       "    <tr>\n",
       "      <th>std</th>\n",
       "      <td>11.555444</td>\n",
       "    </tr>\n",
       "    <tr>\n",
       "      <th>min</th>\n",
       "      <td>16.000000</td>\n",
       "    </tr>\n",
       "    <tr>\n",
       "      <th>25%</th>\n",
       "      <td>18.000000</td>\n",
       "    </tr>\n",
       "    <tr>\n",
       "      <th>50%</th>\n",
       "      <td>21.000000</td>\n",
       "    </tr>\n",
       "    <tr>\n",
       "      <th>75%</th>\n",
       "      <td>24.000000</td>\n",
       "    </tr>\n",
       "    <tr>\n",
       "      <th>max</th>\n",
       "      <td>211.000000</td>\n",
       "    </tr>\n",
       "  </tbody>\n",
       "</table>\n",
       "</div>"
      ],
      "text/plain": [
       "              age\n",
       "count  360.000000\n",
       "mean    21.561111\n",
       "std     11.555444\n",
       "min     16.000000\n",
       "25%     18.000000\n",
       "50%     21.000000\n",
       "75%     24.000000\n",
       "max    211.000000"
      ]
     },
     "execution_count": 12,
     "metadata": {},
     "output_type": "execute_result"
    }
   ],
   "source": [
    "df1.describe()"
   ]
  },
  {
   "cell_type": "code",
   "execution_count": 13,
   "id": "b2cb376d",
   "metadata": {},
   "outputs": [
    {
     "data": {
      "text/plain": [
       "<AxesSubplot:ylabel='age'>"
      ]
     },
     "execution_count": 13,
     "metadata": {},
     "output_type": "execute_result"
    },
    {
     "data": {
      "image/png": "[encoded data removed]",
      "text/plain": [
       "<Figure size 640x480 with 1 Axes>"
      ]
     },
     "metadata": {},
     "output_type": "display_data"
    }
   ],
   "source": [
    "sns.boxenplot(data=df1, y='age')"
   ]
  },
  {
   "cell_type": "markdown",
   "id": "dae06eac",
   "metadata": {},
   "source": [
    "There are two outliers in the dataframe. We could remove them but first lets see what those outliers are"
   ]
  },
  {
   "cell_type": "code",
   "execution_count": 14,
   "id": "718d8972",
   "metadata": {},
   "outputs": [
    {
     "data": {
      "text/html": [
       "<div>\n",
       "<style scoped>\n",
       "    .dataframe tbody tr th:only-of-type {\n",
       "        vertical-align: middle;\n",
       "    }\n",
       "\n",
       "    .dataframe tbody tr th {\n",
       "        vertical-align: top;\n",
       "    }\n",
       "\n",
       "    .dataframe thead th {\n",
       "        text-align: right;\n",
       "    }\n",
       "</style>\n",
       "<table border=\"1\" class=\"dataframe\">\n",
       "  <thead>\n",
       "    <tr style=\"text-align: right;\">\n",
       "      <th></th>\n",
       "      <th>lead_id</th>\n",
       "      <th>age</th>\n",
       "      <th>gender</th>\n",
       "      <th>current_city</th>\n",
       "      <th>current_education</th>\n",
       "      <th>parent_occupation</th>\n",
       "      <th>lead_gen_source</th>\n",
       "    </tr>\n",
       "  </thead>\n",
       "  <tbody>\n",
       "    <tr>\n",
       "      <th>17</th>\n",
       "      <td>USR1018</td>\n",
       "      <td>211</td>\n",
       "      <td>MALE</td>\n",
       "      <td>Hyderabad</td>\n",
       "      <td>Degree</td>\n",
       "      <td>IT Employee</td>\n",
       "      <td>social_media</td>\n",
       "    </tr>\n",
       "    <tr>\n",
       "      <th>300</th>\n",
       "      <td>USR1301</td>\n",
       "      <td>116</td>\n",
       "      <td>FEMALE</td>\n",
       "      <td>Hyderabad</td>\n",
       "      <td>Intermediate</td>\n",
       "      <td>Private Employee</td>\n",
       "      <td>social_media</td>\n",
       "    </tr>\n",
       "  </tbody>\n",
       "</table>\n",
       "</div>"
      ],
      "text/plain": [
       "     lead_id  age  gender current_city current_education parent_occupation  \\\n",
       "17   USR1018  211    MALE    Hyderabad            Degree       IT Employee   \n",
       "300  USR1301  116  FEMALE    Hyderabad      Intermediate  Private Employee   \n",
       "\n",
       "    lead_gen_source  \n",
       "17     social_media  \n",
       "300    social_media  "
      ]
     },
     "execution_count": 14,
     "metadata": {},
     "output_type": "execute_result"
    }
   ],
   "source": [
    "df1[df1['age'] > 100]"
   ]
  },
  {
   "cell_type": "markdown",
   "id": "dad99ff7",
   "metadata": {},
   "source": [
    "The age is given as 211 for USR1018 and 116 for USR1301, with their 'current_education' as Degree and Intermediate respectively. Lets see the average age for these two categories"
   ]
  },
  {
   "cell_type": "code",
   "execution_count": 15,
   "id": "33dbe898",
   "metadata": {},
   "outputs": [
    {
     "data": {
      "text/plain": [
       "(358, 7)"
      ]
     },
     "execution_count": 15,
     "metadata": {},
     "output_type": "execute_result"
    }
   ],
   "source": [
    "drooped = df1.drop([17,300])\n",
    "drooped.shape"
   ]
  },
  {
   "cell_type": "code",
   "execution_count": 16,
   "id": "ab7d7a43",
   "metadata": {},
   "outputs": [
    {
     "data": {
      "text/plain": [
       "<AxesSubplot:ylabel='age'>"
      ]
     },
     "execution_count": 16,
     "metadata": {},
     "output_type": "execute_result"
    },
    {
     "data": {
      "image/png": "[encoded data removed]",
      "text/plain": [
       "<Figure size 640x480 with 1 Axes>"
      ]
     },
     "metadata": {},
     "output_type": "display_data"
    }
   ],
   "source": [
    "sns.boxenplot(data=drooped, y='age')"
   ]
  },
  {
   "cell_type": "code",
   "execution_count": 17,
   "id": "06cc0250",
   "metadata": {},
   "outputs": [
    {
     "data": {
      "text/plain": [
       "<AxesSubplot:xlabel='current_education'>"
      ]
     },
     "execution_count": 17,
     "metadata": {},
     "output_type": "execute_result"
    },
    {
     "data": {
      "image/png": "[encoded data removed]",
      "text/plain": [
       "<Figure size 1000x500 with 1 Axes>"
      ]
     },
     "metadata": {},
     "output_type": "display_data"
    }
   ],
   "source": [
    "by_ed = drooped.groupby('current_education').median()\n",
    "by_ed['age'].plot(figsize=(10,5))"
   ]
  },
  {
   "cell_type": "code",
   "execution_count": 18,
   "id": "c2c79592",
   "metadata": {},
   "outputs": [
    {
     "data": {
      "text/plain": [
       "array([21])"
      ]
     },
     "execution_count": 18,
     "metadata": {},
     "output_type": "execute_result"
    }
   ],
   "source": [
    "drooped[drooped['current_education'] == 'Degree']['age'].unique()"
   ]
  },
  {
   "cell_type": "code",
   "execution_count": 19,
   "id": "90435681",
   "metadata": {},
   "outputs": [
    {
     "data": {
      "text/plain": [
       "array([16])"
      ]
     },
     "execution_count": 19,
     "metadata": {},
     "output_type": "execute_result"
    }
   ],
   "source": [
    "drooped[drooped['current_education'] == 'Intermediate']['age'].unique()"
   ]
  },
  {
   "cell_type": "markdown",
   "id": "1294faa3",
   "metadata": {},
   "source": [
    "The only ages for 'Degree' and 'Intermediate' are 21 and 16. Therefore lets replace those values instead of dropping them."
   ]
  },
  {
   "cell_type": "code",
   "execution_count": 20,
   "id": "5c6a3fe6",
   "metadata": {},
   "outputs": [],
   "source": [
    "df1.loc[17,'age'] = 21\n",
    "df1.loc[300,'age'] = 16"
   ]
  },
  {
   "cell_type": "code",
   "execution_count": 21,
   "id": "bfbd5697",
   "metadata": {},
   "outputs": [
    {
     "data": {
      "text/plain": [
       "(360, 7)"
      ]
     },
     "execution_count": 21,
     "metadata": {},
     "output_type": "execute_result"
    }
   ],
   "source": [
    "df1.shape"
   ]
  },
  {
   "cell_type": "code",
   "execution_count": 65,
   "id": "c828c1ec",
   "metadata": {},
   "outputs": [
    {
     "data": {
      "text/plain": [
       "<AxesSubplot:>"
      ]
     },
     "execution_count": 65,
     "metadata": {},
     "output_type": "execute_result"
    },
    {
     "data": {
      "image/png": "[encoded data removed]",
      "text/plain": [
       "<Figure size 640x480 with 1 Axes>"
      ]
     },
     "metadata": {},
     "output_type": "display_data"
    }
   ],
   "source": [
    "df1.groupby('gender').size().plot(kind='pie', autopct='%.2f', y='lead_id', ylabel='')"
   ]
  },
  {
   "cell_type": "markdown",
   "id": "2313c8ad",
   "metadata": {},
   "source": [
    "The number of females in the lead stage looks more than the number of males but nothing can be said conclusively about this trend at this point"
   ]
  },
  {
   "cell_type": "code",
   "execution_count": 23,
   "id": "a3c6c8af",
   "metadata": {
    "scrolled": false
   },
   "outputs": [
    {
     "data": {
      "text/plain": [
       "<AxesSubplot:xlabel='current_city', ylabel='count'>"
      ]
     },
     "execution_count": 23,
     "metadata": {},
     "output_type": "execute_result"
    },
    {
     "data": {
      "image/png": "[encoded data removed]",
      "text/plain": [
       "<Figure size 1000x500 with 1 Axes>"
      ]
     },
     "metadata": {},
     "output_type": "display_data"
    }
   ],
   "source": [
    "plt.figure(figsize=(10,5))\n",
    "sns.countplot(x='current_city', data=df1)"
   ]
  },
  {
   "cell_type": "markdown",
   "id": "d11c7e0d",
   "metadata": {},
   "source": [
    "The highest number of leads are from vishakapatnam and Hyderabad but nothing can be said conclusively at this point. The population in other areas might not have received as many calls as these two cities."
   ]
  },
  {
   "cell_type": "code",
   "execution_count": 24,
   "id": "472d1b92",
   "metadata": {},
   "outputs": [
    {
     "data": {
      "text/plain": [
       "<AxesSubplot:>"
      ]
     },
     "execution_count": 24,
     "metadata": {},
     "output_type": "execute_result"
    },
    {
     "data": {
      "image/png": "[encoded data removed]",
      "text/plain": [
       "<Figure size 640x480 with 1 Axes>"
      ]
     },
     "metadata": {},
     "output_type": "display_data"
    }
   ],
   "source": [
    "df1.groupby('lead_gen_source').size().plot(kind='pie', autopct='%0.1f', y='lead_id', ylabel='')"
   ]
  },
  {
   "cell_type": "markdown",
   "id": "55a5840b",
   "metadata": {},
   "source": [
    "It can be conslusively said that social media is the no.1 lead gen source followed by SEO and email_marketing with percentages of 24.3, 20.8 and 20.3 respectively"
   ]
  },
  {
   "cell_type": "markdown",
   "id": "148dcf76",
   "metadata": {},
   "source": [
    "# Leads leads demo watched details analysis"
   ]
  },
  {
   "cell_type": "code",
   "execution_count": 25,
   "id": "54068b81",
   "metadata": {},
   "outputs": [
    {
     "data": {
      "text/html": [
       "<div>\n",
       "<style scoped>\n",
       "    .dataframe tbody tr th:only-of-type {\n",
       "        vertical-align: middle;\n",
       "    }\n",
       "\n",
       "    .dataframe tbody tr th {\n",
       "        vertical-align: top;\n",
       "    }\n",
       "\n",
       "    .dataframe thead th {\n",
       "        text-align: right;\n",
       "    }\n",
       "</style>\n",
       "<table border=\"1\" class=\"dataframe\">\n",
       "  <thead>\n",
       "    <tr style=\"text-align: right;\">\n",
       "      <th></th>\n",
       "      <th>lead_id</th>\n",
       "      <th>demo_watched_date</th>\n",
       "      <th>language</th>\n",
       "      <th>watched_percentage</th>\n",
       "    </tr>\n",
       "  </thead>\n",
       "  <tbody>\n",
       "    <tr>\n",
       "      <th>0</th>\n",
       "      <td>USR1002</td>\n",
       "      <td>1/4/2022</td>\n",
       "      <td>Telugu</td>\n",
       "      <td>42</td>\n",
       "    </tr>\n",
       "    <tr>\n",
       "      <th>1</th>\n",
       "      <td>USR1003</td>\n",
       "      <td>1/7/2022</td>\n",
       "      <td>Telugu</td>\n",
       "      <td>81</td>\n",
       "    </tr>\n",
       "    <tr>\n",
       "      <th>2</th>\n",
       "      <td>USR1004</td>\n",
       "      <td>1/2/2022</td>\n",
       "      <td>Telugu</td>\n",
       "      <td>35</td>\n",
       "    </tr>\n",
       "    <tr>\n",
       "      <th>3</th>\n",
       "      <td>USR1005</td>\n",
       "      <td>1/3/2022</td>\n",
       "      <td>Hindi</td>\n",
       "      <td>38</td>\n",
       "    </tr>\n",
       "    <tr>\n",
       "      <th>4</th>\n",
       "      <td>USR1006</td>\n",
       "      <td>1/12/2022</td>\n",
       "      <td>Hindi</td>\n",
       "      <td>54</td>\n",
       "    </tr>\n",
       "  </tbody>\n",
       "</table>\n",
       "</div>"
      ],
      "text/plain": [
       "   lead_id demo_watched_date language  watched_percentage\n",
       "0  USR1002          1/4/2022   Telugu                  42\n",
       "1  USR1003          1/7/2022   Telugu                  81\n",
       "2  USR1004          1/2/2022   Telugu                  35\n",
       "3  USR1005          1/3/2022    Hindi                  38\n",
       "4  USR1006         1/12/2022    Hindi                  54"
      ]
     },
     "execution_count": 25,
     "metadata": {},
     "output_type": "execute_result"
    }
   ],
   "source": [
    "df4.head()"
   ]
  },
  {
   "cell_type": "code",
   "execution_count": 26,
   "id": "d5c61bba",
   "metadata": {},
   "outputs": [
    {
     "name": "stdout",
     "output_type": "stream",
     "text": [
      "<class 'pandas.core.frame.DataFrame'>\n",
      "RangeIndex: 194 entries, 0 to 193\n",
      "Data columns (total 4 columns):\n",
      " #   Column              Non-Null Count  Dtype \n",
      "---  ------              --------------  ----- \n",
      " 0   lead_id             194 non-null    object\n",
      " 1   demo_watched_date   194 non-null    object\n",
      " 2   language            194 non-null    object\n",
      " 3   watched_percentage  194 non-null    int64 \n",
      "dtypes: int64(1), object(3)\n",
      "memory usage: 6.2+ KB\n"
     ]
    }
   ],
   "source": [
    "df4.info()"
   ]
  },
  {
   "cell_type": "code",
   "execution_count": 27,
   "id": "a62a9093",
   "metadata": {},
   "outputs": [
    {
     "data": {
      "text/plain": [
       "lead_id               0\n",
       "demo_watched_date     0\n",
       "language              0\n",
       "watched_percentage    0\n",
       "dtype: int64"
      ]
     },
     "execution_count": 27,
     "metadata": {},
     "output_type": "execute_result"
    }
   ],
   "source": [
    "df4.isnull().sum()"
   ]
  },
  {
   "cell_type": "code",
   "execution_count": 28,
   "id": "d5c87327",
   "metadata": {},
   "outputs": [
    {
     "data": {
      "text/plain": [
       "<AxesSubplot:>"
      ]
     },
     "execution_count": 28,
     "metadata": {},
     "output_type": "execute_result"
    },
    {
     "data": {
      "image/png": "[encoded data removed]",
      "text/plain": [
       "<Figure size 640x480 with 1 Axes>"
      ]
     },
     "metadata": {},
     "output_type": "display_data"
    }
   ],
   "source": [
    "sns.heatmap(df4.isnull(), cbar=False, cmap='plasma', yticklabels='False')"
   ]
  },
  {
   "cell_type": "code",
   "execution_count": 29,
   "id": "0022cc8a",
   "metadata": {},
   "outputs": [
    {
     "data": {
      "text/html": [
       "<div>\n",
       "<style scoped>\n",
       "    .dataframe tbody tr th:only-of-type {\n",
       "        vertical-align: middle;\n",
       "    }\n",
       "\n",
       "    .dataframe tbody tr th {\n",
       "        vertical-align: top;\n",
       "    }\n",
       "\n",
       "    .dataframe thead th {\n",
       "        text-align: right;\n",
       "    }\n",
       "</style>\n",
       "<table border=\"1\" class=\"dataframe\">\n",
       "  <thead>\n",
       "    <tr style=\"text-align: right;\">\n",
       "      <th></th>\n",
       "      <th>watched_percentage</th>\n",
       "    </tr>\n",
       "  </thead>\n",
       "  <tbody>\n",
       "    <tr>\n",
       "      <th>count</th>\n",
       "      <td>194.000000</td>\n",
       "    </tr>\n",
       "    <tr>\n",
       "      <th>mean</th>\n",
       "      <td>56.634021</td>\n",
       "    </tr>\n",
       "    <tr>\n",
       "      <th>std</th>\n",
       "      <td>43.555635</td>\n",
       "    </tr>\n",
       "    <tr>\n",
       "      <th>min</th>\n",
       "      <td>2.000000</td>\n",
       "    </tr>\n",
       "    <tr>\n",
       "      <th>25%</th>\n",
       "      <td>35.000000</td>\n",
       "    </tr>\n",
       "    <tr>\n",
       "      <th>50%</th>\n",
       "      <td>55.500000</td>\n",
       "    </tr>\n",
       "    <tr>\n",
       "      <th>75%</th>\n",
       "      <td>75.750000</td>\n",
       "    </tr>\n",
       "    <tr>\n",
       "      <th>max</th>\n",
       "      <td>510.000000</td>\n",
       "    </tr>\n",
       "  </tbody>\n",
       "</table>\n",
       "</div>"
      ],
      "text/plain": [
       "       watched_percentage\n",
       "count          194.000000\n",
       "mean            56.634021\n",
       "std             43.555635\n",
       "min              2.000000\n",
       "25%             35.000000\n",
       "50%             55.500000\n",
       "75%             75.750000\n",
       "max            510.000000"
      ]
     },
     "execution_count": 29,
     "metadata": {},
     "output_type": "execute_result"
    }
   ],
   "source": [
    "df4.describe()"
   ]
  },
  {
   "cell_type": "code",
   "execution_count": 30,
   "id": "2b233819",
   "metadata": {},
   "outputs": [
    {
     "data": {
      "text/plain": [
       "<AxesSubplot:>"
      ]
     },
     "execution_count": 30,
     "metadata": {},
     "output_type": "execute_result"
    },
    {
     "data": {
      "image/png": "[encoded data removed]",
      "text/plain": [
       "<Figure size 640x480 with 1 Axes>"
      ]
     },
     "metadata": {},
     "output_type": "display_data"
    }
   ],
   "source": [
    "sns.boxenplot(data=df4)"
   ]
  },
  {
   "cell_type": "code",
   "execution_count": 31,
   "id": "d94d61d5",
   "metadata": {},
   "outputs": [
    {
     "data": {
      "text/html": [
       "<div>\n",
       "<style scoped>\n",
       "    .dataframe tbody tr th:only-of-type {\n",
       "        vertical-align: middle;\n",
       "    }\n",
       "\n",
       "    .dataframe tbody tr th {\n",
       "        vertical-align: top;\n",
       "    }\n",
       "\n",
       "    .dataframe thead th {\n",
       "        text-align: right;\n",
       "    }\n",
       "</style>\n",
       "<table border=\"1\" class=\"dataframe\">\n",
       "  <thead>\n",
       "    <tr style=\"text-align: right;\">\n",
       "      <th></th>\n",
       "      <th>lead_id</th>\n",
       "      <th>demo_watched_date</th>\n",
       "      <th>language</th>\n",
       "      <th>watched_percentage</th>\n",
       "    </tr>\n",
       "  </thead>\n",
       "  <tbody>\n",
       "    <tr>\n",
       "      <th>94</th>\n",
       "      <td>USR1138</td>\n",
       "      <td>2/20/2022</td>\n",
       "      <td>English</td>\n",
       "      <td>510</td>\n",
       "    </tr>\n",
       "    <tr>\n",
       "      <th>133</th>\n",
       "      <td>USR1213</td>\n",
       "      <td>1/20/2022</td>\n",
       "      <td>Telugu</td>\n",
       "      <td>233</td>\n",
       "    </tr>\n",
       "  </tbody>\n",
       "</table>\n",
       "</div>"
      ],
      "text/plain": [
       "     lead_id demo_watched_date language  watched_percentage\n",
       "94   USR1138         2/20/2022  English                 510\n",
       "133  USR1213         1/20/2022   Telugu                 233"
      ]
     },
     "execution_count": 31,
     "metadata": {},
     "output_type": "execute_result"
    }
   ],
   "source": [
    "df4[df4['watched_percentage'] > 100]"
   ]
  },
  {
   "cell_type": "code",
   "execution_count": 32,
   "id": "c91ef871",
   "metadata": {},
   "outputs": [],
   "source": [
    "df4.drop([94,133], inplace=True)"
   ]
  },
  {
   "cell_type": "code",
   "execution_count": 87,
   "id": "1bb5cd08",
   "metadata": {
    "scrolled": false
   },
   "outputs": [
    {
     "data": {
      "text/plain": [
       "<AxesSubplot:>"
      ]
     },
     "execution_count": 87,
     "metadata": {},
     "output_type": "execute_result"
    },
    {
     "data": {
      "image/png": "[encoded data removed]",
      "text/plain": [
       "<Figure size 640x480 with 1 Axes>"
      ]
     },
     "metadata": {},
     "output_type": "display_data"
    }
   ],
   "source": [
    "df4.groupby('language').size().plot(kind='pie', autopct='%0.2f', y='lead_id', ylabel='')"
   ]
  },
  {
   "cell_type": "code",
   "execution_count": 88,
   "id": "3ff3b16c",
   "metadata": {},
   "outputs": [
    {
     "data": {
      "text/plain": [
       "language\n",
       "English    111\n",
       "Hindi       20\n",
       "Telugu      61\n",
       "Name: lead_id, dtype: int64"
      ]
     },
     "execution_count": 88,
     "metadata": {},
     "output_type": "execute_result"
    }
   ],
   "source": [
    "df4.groupby('language')['lead_id'].count()"
   ]
  },
  {
   "cell_type": "markdown",
   "id": "b7951f0d",
   "metadata": {},
   "source": [
    "English is the majorly watched language\n",
    "Conclusion: There could variety of reaons why the watched percentage varies. Making the video shorter and concise could encourage more viewers to watch 100% of the demo."
   ]
  },
  {
   "cell_type": "code",
   "execution_count": 34,
   "id": "fa0fbdc2",
   "metadata": {
    "scrolled": false
   },
   "outputs": [
    {
     "data": {
      "text/plain": [
       "<AxesSubplot:xlabel='watched_percentage', ylabel='Count'>"
      ]
     },
     "execution_count": 34,
     "metadata": {},
     "output_type": "execute_result"
    },
    {
     "data": {
      "image/png": "[encoded data removed]",
      "text/plain": [
       "<Figure size 640x480 with 1 Axes>"
      ]
     },
     "metadata": {},
     "output_type": "display_data"
    }
   ],
   "source": [
    "sns.histplot(df4['watched_percentage'])"
   ]
  },
  {
   "cell_type": "code",
   "execution_count": 85,
   "id": "fea82773",
   "metadata": {},
   "outputs": [
    {
     "data": {
      "text/html": [
       "<div>\n",
       "<style scoped>\n",
       "    .dataframe tbody tr th:only-of-type {\n",
       "        vertical-align: middle;\n",
       "    }\n",
       "\n",
       "    .dataframe tbody tr th {\n",
       "        vertical-align: top;\n",
       "    }\n",
       "\n",
       "    .dataframe thead th {\n",
       "        text-align: right;\n",
       "    }\n",
       "</style>\n",
       "<table border=\"1\" class=\"dataframe\">\n",
       "  <thead>\n",
       "    <tr style=\"text-align: right;\">\n",
       "      <th></th>\n",
       "      <th>lead_id</th>\n",
       "      <th>demo_watched_date</th>\n",
       "      <th>language</th>\n",
       "      <th>watched_percentage</th>\n",
       "    </tr>\n",
       "  </thead>\n",
       "  <tbody>\n",
       "    <tr>\n",
       "      <th>19</th>\n",
       "      <td>USR1021</td>\n",
       "      <td>1/2/2022</td>\n",
       "      <td>English</td>\n",
       "      <td>100</td>\n",
       "    </tr>\n",
       "    <tr>\n",
       "      <th>62</th>\n",
       "      <td>USR1077</td>\n",
       "      <td>2/21/2022</td>\n",
       "      <td>English</td>\n",
       "      <td>100</td>\n",
       "    </tr>\n",
       "    <tr>\n",
       "      <th>65</th>\n",
       "      <td>USR1083</td>\n",
       "      <td>1/8/2022</td>\n",
       "      <td>English</td>\n",
       "      <td>90</td>\n",
       "    </tr>\n",
       "    <tr>\n",
       "      <th>67</th>\n",
       "      <td>USR1090</td>\n",
       "      <td>1/11/2022</td>\n",
       "      <td>English</td>\n",
       "      <td>91</td>\n",
       "    </tr>\n",
       "    <tr>\n",
       "      <th>68</th>\n",
       "      <td>USR1091</td>\n",
       "      <td>1/20/2022</td>\n",
       "      <td>English</td>\n",
       "      <td>92</td>\n",
       "    </tr>\n",
       "    <tr>\n",
       "      <th>122</th>\n",
       "      <td>USR1192</td>\n",
       "      <td>1/17/2022</td>\n",
       "      <td>English</td>\n",
       "      <td>90</td>\n",
       "    </tr>\n",
       "    <tr>\n",
       "      <th>123</th>\n",
       "      <td>USR1193</td>\n",
       "      <td>1/20/2022</td>\n",
       "      <td>English</td>\n",
       "      <td>95</td>\n",
       "    </tr>\n",
       "    <tr>\n",
       "      <th>124</th>\n",
       "      <td>USR1195</td>\n",
       "      <td>1/17/2022</td>\n",
       "      <td>English</td>\n",
       "      <td>100</td>\n",
       "    </tr>\n",
       "    <tr>\n",
       "      <th>125</th>\n",
       "      <td>USR1197</td>\n",
       "      <td>2/22/2022</td>\n",
       "      <td>Telugu</td>\n",
       "      <td>90</td>\n",
       "    </tr>\n",
       "    <tr>\n",
       "      <th>165</th>\n",
       "      <td>USR1273</td>\n",
       "      <td>1/19/2022</td>\n",
       "      <td>English</td>\n",
       "      <td>91</td>\n",
       "    </tr>\n",
       "  </tbody>\n",
       "</table>\n",
       "</div>"
      ],
      "text/plain": [
       "     lead_id demo_watched_date language  watched_percentage\n",
       "19   USR1021          1/2/2022  English                 100\n",
       "62   USR1077         2/21/2022  English                 100\n",
       "65   USR1083          1/8/2022  English                  90\n",
       "67   USR1090         1/11/2022  English                  91\n",
       "68   USR1091         1/20/2022  English                  92\n",
       "122  USR1192         1/17/2022  English                  90\n",
       "123  USR1193         1/20/2022  English                  95\n",
       "124  USR1195         1/17/2022  English                 100\n",
       "125  USR1197         2/22/2022   Telugu                  90\n",
       "165  USR1273         1/19/2022  English                  91"
      ]
     },
     "execution_count": 85,
     "metadata": {},
     "output_type": "execute_result"
    }
   ],
   "source": [
    "df4[df4['watched_percentage'] >= 90]"
   ]
  },
  {
   "cell_type": "markdown",
   "id": "0e6013c3",
   "metadata": {},
   "source": [
    "The maximum count is 35, which corresponds to 80% watched. Only around 10 people have wwacthed 100% of the video, but majority of the people have watched more than half of the video"
   ]
  },
  {
   "cell_type": "code",
   "execution_count": 35,
   "id": "03e7df02",
   "metadata": {},
   "outputs": [
    {
     "data": {
      "text/html": [
       "<div>\n",
       "<style scoped>\n",
       "    .dataframe tbody tr th:only-of-type {\n",
       "        vertical-align: middle;\n",
       "    }\n",
       "\n",
       "    .dataframe tbody tr th {\n",
       "        vertical-align: top;\n",
       "    }\n",
       "\n",
       "    .dataframe thead th {\n",
       "        text-align: right;\n",
       "    }\n",
       "</style>\n",
       "<table border=\"1\" class=\"dataframe\">\n",
       "  <thead>\n",
       "    <tr style=\"text-align: right;\">\n",
       "      <th></th>\n",
       "      <th>jnr_sm_id</th>\n",
       "      <th>lead_id</th>\n",
       "      <th>lead_stage</th>\n",
       "      <th>call_done_date</th>\n",
       "      <th>call_status</th>\n",
       "      <th>call_reason</th>\n",
       "    </tr>\n",
       "  </thead>\n",
       "  <tbody>\n",
       "    <tr>\n",
       "      <th>0</th>\n",
       "      <td>JNR1001MG</td>\n",
       "      <td>USR1001</td>\n",
       "      <td>lead</td>\n",
       "      <td>1/2/2022</td>\n",
       "      <td>successful</td>\n",
       "      <td>lead_introduction</td>\n",
       "    </tr>\n",
       "    <tr>\n",
       "      <th>1</th>\n",
       "      <td>JNR1001MG</td>\n",
       "      <td>USR1001</td>\n",
       "      <td>lead</td>\n",
       "      <td>1/2/2022</td>\n",
       "      <td>successful</td>\n",
       "      <td>demo_schedule</td>\n",
       "    </tr>\n",
       "    <tr>\n",
       "      <th>2</th>\n",
       "      <td>JNR1001MG</td>\n",
       "      <td>USR1002</td>\n",
       "      <td>lead</td>\n",
       "      <td>1/3/2022</td>\n",
       "      <td>successful</td>\n",
       "      <td>lead_introduction</td>\n",
       "    </tr>\n",
       "    <tr>\n",
       "      <th>3</th>\n",
       "      <td>JNR1001MG</td>\n",
       "      <td>USR1002</td>\n",
       "      <td>lead</td>\n",
       "      <td>1/4/2022</td>\n",
       "      <td>successful</td>\n",
       "      <td>demo_schedule</td>\n",
       "    </tr>\n",
       "    <tr>\n",
       "      <th>4</th>\n",
       "      <td>JNR1001MG</td>\n",
       "      <td>USR1002</td>\n",
       "      <td>awareness</td>\n",
       "      <td>1/5/2022</td>\n",
       "      <td>successful</td>\n",
       "      <td>post_demo_followup</td>\n",
       "    </tr>\n",
       "  </tbody>\n",
       "</table>\n",
       "</div>"
      ],
      "text/plain": [
       "   jnr_sm_id  lead_id lead_stage call_done_date call_status  \\\n",
       "0  JNR1001MG  USR1001       lead       1/2/2022  successful   \n",
       "1  JNR1001MG  USR1001       lead       1/2/2022  successful   \n",
       "2  JNR1001MG  USR1002       lead       1/3/2022  successful   \n",
       "3  JNR1001MG  USR1002       lead       1/4/2022  successful   \n",
       "4  JNR1001MG  USR1002  awareness       1/5/2022  successful   \n",
       "\n",
       "          call_reason  \n",
       "0   lead_introduction  \n",
       "1       demo_schedule  \n",
       "2   lead_introduction  \n",
       "3       demo_schedule  \n",
       "4  post_demo_followup  "
      ]
     },
     "execution_count": 35,
     "metadata": {},
     "output_type": "execute_result"
    }
   ],
   "source": [
    "df3.head()"
   ]
  },
  {
   "cell_type": "code",
   "execution_count": 36,
   "id": "f5533c9b",
   "metadata": {},
   "outputs": [
    {
     "name": "stdout",
     "output_type": "stream",
     "text": [
      "<class 'pandas.core.frame.DataFrame'>\n",
      "RangeIndex: 2192 entries, 0 to 2191\n",
      "Data columns (total 6 columns):\n",
      " #   Column          Non-Null Count  Dtype \n",
      "---  ------          --------------  ----- \n",
      " 0   jnr_sm_id       2192 non-null   object\n",
      " 1   lead_id         2192 non-null   object\n",
      " 2   lead_stage      2192 non-null   object\n",
      " 3   call_done_date  2192 non-null   object\n",
      " 4   call_status     2192 non-null   object\n",
      " 5   call_reason     2192 non-null   object\n",
      "dtypes: object(6)\n",
      "memory usage: 102.9+ KB\n"
     ]
    }
   ],
   "source": [
    "df3.info()"
   ]
  },
  {
   "cell_type": "code",
   "execution_count": 37,
   "id": "35cfb421",
   "metadata": {},
   "outputs": [
    {
     "data": {
      "text/plain": [
       "(2192, 6)"
      ]
     },
     "execution_count": 37,
     "metadata": {},
     "output_type": "execute_result"
    }
   ],
   "source": [
    "df3.shape"
   ]
  },
  {
   "cell_type": "code",
   "execution_count": 38,
   "id": "784b803e",
   "metadata": {},
   "outputs": [
    {
     "data": {
      "text/plain": [
       "<AxesSubplot:>"
      ]
     },
     "execution_count": 38,
     "metadata": {},
     "output_type": "execute_result"
    },
    {
     "data": {
      "image/png": "[encoded data removed]",
      "text/plain": [
       "<Figure size 640x480 with 1 Axes>"
      ]
     },
     "metadata": {},
     "output_type": "display_data"
    }
   ],
   "source": [
    "sns.heatmap(df3.isnull(), cbar=False, yticklabels=False, cmap='plasma')"
   ]
  },
  {
   "cell_type": "code",
   "execution_count": 39,
   "id": "d2486c62",
   "metadata": {},
   "outputs": [
    {
     "data": {
      "text/html": [
       "<div>\n",
       "<style scoped>\n",
       "    .dataframe tbody tr th:only-of-type {\n",
       "        vertical-align: middle;\n",
       "    }\n",
       "\n",
       "    .dataframe tbody tr th {\n",
       "        vertical-align: top;\n",
       "    }\n",
       "\n",
       "    .dataframe thead th {\n",
       "        text-align: right;\n",
       "    }\n",
       "</style>\n",
       "<table border=\"1\" class=\"dataframe\">\n",
       "  <thead>\n",
       "    <tr style=\"text-align: right;\">\n",
       "      <th></th>\n",
       "      <th>jnr_sm_id</th>\n",
       "      <th>lead_id</th>\n",
       "      <th>lead_stage</th>\n",
       "      <th>call_done_date</th>\n",
       "      <th>call_status</th>\n",
       "      <th>call_reason</th>\n",
       "    </tr>\n",
       "  </thead>\n",
       "  <tbody>\n",
       "    <tr>\n",
       "      <th>count</th>\n",
       "      <td>2192</td>\n",
       "      <td>2192</td>\n",
       "      <td>2192</td>\n",
       "      <td>2192</td>\n",
       "      <td>2192</td>\n",
       "      <td>2192</td>\n",
       "    </tr>\n",
       "    <tr>\n",
       "      <th>unique</th>\n",
       "      <td>16</td>\n",
       "      <td>358</td>\n",
       "      <td>4</td>\n",
       "      <td>40</td>\n",
       "      <td>2</td>\n",
       "      <td>8</td>\n",
       "    </tr>\n",
       "    <tr>\n",
       "      <th>top</th>\n",
       "      <td>JNR1012MG</td>\n",
       "      <td>USR1193</td>\n",
       "      <td>lead</td>\n",
       "      <td>1/8/2022</td>\n",
       "      <td>successful</td>\n",
       "      <td>demo_not_attended</td>\n",
       "    </tr>\n",
       "    <tr>\n",
       "      <th>freq</th>\n",
       "      <td>164</td>\n",
       "      <td>11</td>\n",
       "      <td>1547</td>\n",
       "      <td>156</td>\n",
       "      <td>1866</td>\n",
       "      <td>701</td>\n",
       "    </tr>\n",
       "  </tbody>\n",
       "</table>\n",
       "</div>"
      ],
      "text/plain": [
       "        jnr_sm_id  lead_id lead_stage call_done_date call_status  \\\n",
       "count        2192     2192       2192           2192        2192   \n",
       "unique         16      358          4             40           2   \n",
       "top     JNR1012MG  USR1193       lead       1/8/2022  successful   \n",
       "freq          164       11       1547            156        1866   \n",
       "\n",
       "              call_reason  \n",
       "count                2192  \n",
       "unique                  8  \n",
       "top     demo_not_attended  \n",
       "freq                  701  "
      ]
     },
     "execution_count": 39,
     "metadata": {},
     "output_type": "execute_result"
    }
   ],
   "source": [
    "df3.describe()"
   ]
  },
  {
   "cell_type": "code",
   "execution_count": 40,
   "id": "f31a5898",
   "metadata": {},
   "outputs": [
    {
     "data": {
      "text/plain": [
       "<AxesSubplot:xlabel='call_status', ylabel='count'>"
      ]
     },
     "execution_count": 40,
     "metadata": {},
     "output_type": "execute_result"
    },
    {
     "data": {
      "image/png": "[encoded data removed]",
      "text/plain": [
       "<Figure size 640x480 with 1 Axes>"
      ]
     },
     "metadata": {},
     "output_type": "display_data"
    }
   ],
   "source": [
    "sns.countplot(data=df3, x='call_status')"
   ]
  },
  {
   "cell_type": "code",
   "execution_count": 41,
   "id": "ab5b0fc0",
   "metadata": {},
   "outputs": [
    {
     "data": {
      "text/plain": [
       "<AxesSubplot:xlabel='lead_stage', ylabel='count'>"
      ]
     },
     "execution_count": 41,
     "metadata": {},
     "output_type": "execute_result"
    },
    {
     "data": {
      "image/png": "[encoded data removed]",
      "text/plain": [
       "<Figure size 640x480 with 1 Axes>"
      ]
     },
     "metadata": {},
     "output_type": "display_data"
    }
   ],
   "source": [
    "sns.countplot(data=df3, x='lead_stage', hue='call_status')"
   ]
  },
  {
   "cell_type": "markdown",
   "id": "b9f7f324",
   "metadata": {},
   "source": [
    "1) Even though there are more than 1200 successful call statuses in the lead stage, when it comes to awareness the number dramatically drops to around 200 which is just 16% of the success in the lead stage.\n",
    "\n",
    "2) 'Awareness' stage however has a lower unsuccessful rate compared to 'lead stage' and 'consideration' stage\n",
    "\n",
    "3) The number of people also decrease drastically when it comes to conversion stage. Lets analyse the reason later using df5 dataframe"
   ]
  },
  {
   "cell_type": "code",
   "execution_count": 42,
   "id": "77720c93",
   "metadata": {},
   "outputs": [
    {
     "data": {
      "text/html": [
       "<div>\n",
       "<style scoped>\n",
       "    .dataframe tbody tr th:only-of-type {\n",
       "        vertical-align: middle;\n",
       "    }\n",
       "\n",
       "    .dataframe tbody tr th {\n",
       "        vertical-align: top;\n",
       "    }\n",
       "\n",
       "    .dataframe thead th {\n",
       "        text-align: right;\n",
       "    }\n",
       "</style>\n",
       "<table border=\"1\" class=\"dataframe\">\n",
       "  <thead>\n",
       "    <tr style=\"text-align: right;\">\n",
       "      <th></th>\n",
       "      <th></th>\n",
       "      <th>jnr_sm_id</th>\n",
       "      <th>lead_id</th>\n",
       "      <th>call_done_date</th>\n",
       "      <th>call_reason</th>\n",
       "    </tr>\n",
       "    <tr>\n",
       "      <th>lead_stage</th>\n",
       "      <th>call_status</th>\n",
       "      <th></th>\n",
       "      <th></th>\n",
       "      <th></th>\n",
       "      <th></th>\n",
       "    </tr>\n",
       "  </thead>\n",
       "  <tbody>\n",
       "    <tr>\n",
       "      <th rowspan=\"2\" valign=\"top\">awareness</th>\n",
       "      <th>successful</th>\n",
       "      <td>245</td>\n",
       "      <td>245</td>\n",
       "      <td>245</td>\n",
       "      <td>245</td>\n",
       "    </tr>\n",
       "    <tr>\n",
       "      <th>unsuccessful</th>\n",
       "      <td>5</td>\n",
       "      <td>5</td>\n",
       "      <td>5</td>\n",
       "      <td>5</td>\n",
       "    </tr>\n",
       "    <tr>\n",
       "      <th rowspan=\"2\" valign=\"top\">consideration</th>\n",
       "      <th>successful</th>\n",
       "      <td>290</td>\n",
       "      <td>290</td>\n",
       "      <td>290</td>\n",
       "      <td>290</td>\n",
       "    </tr>\n",
       "    <tr>\n",
       "      <th>unsuccessful</th>\n",
       "      <td>41</td>\n",
       "      <td>41</td>\n",
       "      <td>41</td>\n",
       "      <td>41</td>\n",
       "    </tr>\n",
       "    <tr>\n",
       "      <th>conversion</th>\n",
       "      <th>successful</th>\n",
       "      <td>64</td>\n",
       "      <td>64</td>\n",
       "      <td>64</td>\n",
       "      <td>64</td>\n",
       "    </tr>\n",
       "    <tr>\n",
       "      <th rowspan=\"2\" valign=\"top\">lead</th>\n",
       "      <th>successful</th>\n",
       "      <td>1267</td>\n",
       "      <td>1267</td>\n",
       "      <td>1267</td>\n",
       "      <td>1267</td>\n",
       "    </tr>\n",
       "    <tr>\n",
       "      <th>unsuccessful</th>\n",
       "      <td>280</td>\n",
       "      <td>280</td>\n",
       "      <td>280</td>\n",
       "      <td>280</td>\n",
       "    </tr>\n",
       "  </tbody>\n",
       "</table>\n",
       "</div>"
      ],
      "text/plain": [
       "                            jnr_sm_id  lead_id  call_done_date  call_reason\n",
       "lead_stage    call_status                                                  \n",
       "awareness     successful          245      245             245          245\n",
       "              unsuccessful          5        5               5            5\n",
       "consideration successful          290      290             290          290\n",
       "              unsuccessful         41       41              41           41\n",
       "conversion    successful           64       64              64           64\n",
       "lead          successful         1267     1267            1267         1267\n",
       "              unsuccessful        280      280             280          280"
      ]
     },
     "execution_count": 42,
     "metadata": {},
     "output_type": "execute_result"
    }
   ],
   "source": [
    "df3.groupby(['lead_stage','call_status']).count()"
   ]
  },
  {
   "cell_type": "markdown",
   "id": "494a410f",
   "metadata": {},
   "source": [
    "For 'awareness' only 2% is unsuccessful, for 'consideration' the number of unsuccessful cases go upto 12.38%, but conversion has 100% sucess rate"
   ]
  },
  {
   "cell_type": "code",
   "execution_count": 43,
   "id": "ab7a14aa",
   "metadata": {},
   "outputs": [
    {
     "data": {
      "text/plain": [
       "<AxesSubplot:xlabel='call_reason', ylabel='count'>"
      ]
     },
     "execution_count": 43,
     "metadata": {},
     "output_type": "execute_result"
    },
    {
     "data": {
      "image/png": "[encoded data removed]",
      "text/plain": [
       "<Figure size 2000x500 with 1 Axes>"
      ]
     },
     "metadata": {},
     "output_type": "display_data"
    }
   ],
   "source": [
    "plt.figure(figsize=(20,5))\n",
    "sns.countplot(data=df3, x='call_reason', hue='call_status')"
   ]
  },
  {
   "cell_type": "code",
   "execution_count": 44,
   "id": "29fc20c6",
   "metadata": {},
   "outputs": [
    {
     "data": {
      "text/html": [
       "<div>\n",
       "<style scoped>\n",
       "    .dataframe tbody tr th:only-of-type {\n",
       "        vertical-align: middle;\n",
       "    }\n",
       "\n",
       "    .dataframe tbody tr th {\n",
       "        vertical-align: top;\n",
       "    }\n",
       "\n",
       "    .dataframe thead th {\n",
       "        text-align: right;\n",
       "    }\n",
       "</style>\n",
       "<table border=\"1\" class=\"dataframe\">\n",
       "  <thead>\n",
       "    <tr style=\"text-align: right;\">\n",
       "      <th></th>\n",
       "      <th></th>\n",
       "      <th>jnr_sm_id</th>\n",
       "      <th>lead_id</th>\n",
       "      <th>lead_stage</th>\n",
       "      <th>call_done_date</th>\n",
       "    </tr>\n",
       "    <tr>\n",
       "      <th>call_reason</th>\n",
       "      <th>call_status</th>\n",
       "      <th></th>\n",
       "      <th></th>\n",
       "      <th></th>\n",
       "      <th></th>\n",
       "    </tr>\n",
       "  </thead>\n",
       "  <tbody>\n",
       "    <tr>\n",
       "      <th rowspan=\"2\" valign=\"top\">demo_not_attended</th>\n",
       "      <th>successful</th>\n",
       "      <td>617</td>\n",
       "      <td>617</td>\n",
       "      <td>617</td>\n",
       "      <td>617</td>\n",
       "    </tr>\n",
       "    <tr>\n",
       "      <th>unsuccessful</th>\n",
       "      <td>84</td>\n",
       "      <td>84</td>\n",
       "      <td>84</td>\n",
       "      <td>84</td>\n",
       "    </tr>\n",
       "    <tr>\n",
       "      <th rowspan=\"2\" valign=\"top\">demo_schedule</th>\n",
       "      <th>successful</th>\n",
       "      <td>321</td>\n",
       "      <td>321</td>\n",
       "      <td>321</td>\n",
       "      <td>321</td>\n",
       "    </tr>\n",
       "    <tr>\n",
       "      <th>unsuccessful</th>\n",
       "      <td>26</td>\n",
       "      <td>26</td>\n",
       "      <td>26</td>\n",
       "      <td>26</td>\n",
       "    </tr>\n",
       "    <tr>\n",
       "      <th rowspan=\"2\" valign=\"top\">followup_for_consideration</th>\n",
       "      <th>successful</th>\n",
       "      <td>48</td>\n",
       "      <td>48</td>\n",
       "      <td>48</td>\n",
       "      <td>48</td>\n",
       "    </tr>\n",
       "    <tr>\n",
       "      <th>unsuccessful</th>\n",
       "      <td>5</td>\n",
       "      <td>5</td>\n",
       "      <td>5</td>\n",
       "      <td>5</td>\n",
       "    </tr>\n",
       "    <tr>\n",
       "      <th rowspan=\"2\" valign=\"top\">followup_for_conversion</th>\n",
       "      <th>successful</th>\n",
       "      <td>169</td>\n",
       "      <td>169</td>\n",
       "      <td>169</td>\n",
       "      <td>169</td>\n",
       "    </tr>\n",
       "    <tr>\n",
       "      <th>unsuccessful</th>\n",
       "      <td>20</td>\n",
       "      <td>20</td>\n",
       "      <td>20</td>\n",
       "      <td>20</td>\n",
       "    </tr>\n",
       "    <tr>\n",
       "      <th rowspan=\"2\" valign=\"top\">interested_for_conversion</th>\n",
       "      <th>successful</th>\n",
       "      <td>121</td>\n",
       "      <td>121</td>\n",
       "      <td>121</td>\n",
       "      <td>121</td>\n",
       "    </tr>\n",
       "    <tr>\n",
       "      <th>unsuccessful</th>\n",
       "      <td>21</td>\n",
       "      <td>21</td>\n",
       "      <td>21</td>\n",
       "      <td>21</td>\n",
       "    </tr>\n",
       "    <tr>\n",
       "      <th rowspan=\"2\" valign=\"top\">lead_introduction</th>\n",
       "      <th>successful</th>\n",
       "      <td>329</td>\n",
       "      <td>329</td>\n",
       "      <td>329</td>\n",
       "      <td>329</td>\n",
       "    </tr>\n",
       "    <tr>\n",
       "      <th>unsuccessful</th>\n",
       "      <td>170</td>\n",
       "      <td>170</td>\n",
       "      <td>170</td>\n",
       "      <td>170</td>\n",
       "    </tr>\n",
       "    <tr>\n",
       "      <th>post_demo_followup</th>\n",
       "      <th>successful</th>\n",
       "      <td>197</td>\n",
       "      <td>197</td>\n",
       "      <td>197</td>\n",
       "      <td>197</td>\n",
       "    </tr>\n",
       "    <tr>\n",
       "      <th>successful_conversion</th>\n",
       "      <th>successful</th>\n",
       "      <td>64</td>\n",
       "      <td>64</td>\n",
       "      <td>64</td>\n",
       "      <td>64</td>\n",
       "    </tr>\n",
       "  </tbody>\n",
       "</table>\n",
       "</div>"
      ],
      "text/plain": [
       "                                         jnr_sm_id  lead_id  lead_stage  \\\n",
       "call_reason                call_status                                    \n",
       "demo_not_attended          successful          617      617         617   \n",
       "                           unsuccessful         84       84          84   \n",
       "demo_schedule              successful          321      321         321   \n",
       "                           unsuccessful         26       26          26   \n",
       "followup_for_consideration successful           48       48          48   \n",
       "                           unsuccessful          5        5           5   \n",
       "followup_for_conversion    successful          169      169         169   \n",
       "                           unsuccessful         20       20          20   \n",
       "interested_for_conversion  successful          121      121         121   \n",
       "                           unsuccessful         21       21          21   \n",
       "lead_introduction          successful          329      329         329   \n",
       "                           unsuccessful        170      170         170   \n",
       "post_demo_followup         successful          197      197         197   \n",
       "successful_conversion      successful           64       64          64   \n",
       "\n",
       "                                         call_done_date  \n",
       "call_reason                call_status                   \n",
       "demo_not_attended          successful               617  \n",
       "                           unsuccessful              84  \n",
       "demo_schedule              successful               321  \n",
       "                           unsuccessful              26  \n",
       "followup_for_consideration successful                48  \n",
       "                           unsuccessful               5  \n",
       "followup_for_conversion    successful               169  \n",
       "                           unsuccessful              20  \n",
       "interested_for_conversion  successful               121  \n",
       "                           unsuccessful              21  \n",
       "lead_introduction          successful               329  \n",
       "                           unsuccessful             170  \n",
       "post_demo_followup         successful               197  \n",
       "successful_conversion      successful                64  "
      ]
     },
     "execution_count": 44,
     "metadata": {},
     "output_type": "execute_result"
    }
   ],
   "source": [
    "df3.groupby(['call_reason','call_status']).count()"
   ]
  },
  {
   "cell_type": "markdown",
   "id": "ada44776",
   "metadata": {},
   "source": [
    "Demo not attended seems to be the reason why most follow-ups calls take place"
   ]
  },
  {
   "cell_type": "code",
   "execution_count": 45,
   "id": "60f20235",
   "metadata": {},
   "outputs": [
    {
     "data": {
      "text/html": [
       "<div>\n",
       "<style scoped>\n",
       "    .dataframe tbody tr th:only-of-type {\n",
       "        vertical-align: middle;\n",
       "    }\n",
       "\n",
       "    .dataframe tbody tr th {\n",
       "        vertical-align: top;\n",
       "    }\n",
       "\n",
       "    .dataframe thead th {\n",
       "        text-align: right;\n",
       "    }\n",
       "</style>\n",
       "<table border=\"1\" class=\"dataframe\">\n",
       "  <thead>\n",
       "    <tr style=\"text-align: right;\">\n",
       "      <th></th>\n",
       "      <th>jnr_sm_id</th>\n",
       "      <th>lead_id</th>\n",
       "      <th>lead_stage</th>\n",
       "      <th>call_done_date</th>\n",
       "      <th>call_status</th>\n",
       "      <th>call_reason</th>\n",
       "    </tr>\n",
       "  </thead>\n",
       "  <tbody>\n",
       "    <tr>\n",
       "      <th>9</th>\n",
       "      <td>JNR1001MG</td>\n",
       "      <td>USR1002</td>\n",
       "      <td>conversion</td>\n",
       "      <td>1/7/2022</td>\n",
       "      <td>successful</td>\n",
       "      <td>successful_conversion</td>\n",
       "    </tr>\n",
       "    <tr>\n",
       "      <th>33</th>\n",
       "      <td>JNR1001MG</td>\n",
       "      <td>USR1007</td>\n",
       "      <td>conversion</td>\n",
       "      <td>1/14/2022</td>\n",
       "      <td>successful</td>\n",
       "      <td>successful_conversion</td>\n",
       "    </tr>\n",
       "    <tr>\n",
       "      <th>54</th>\n",
       "      <td>JNR1001MG</td>\n",
       "      <td>USR1011</td>\n",
       "      <td>conversion</td>\n",
       "      <td>1/22/2022</td>\n",
       "      <td>successful</td>\n",
       "      <td>successful_conversion</td>\n",
       "    </tr>\n",
       "    <tr>\n",
       "      <th>62</th>\n",
       "      <td>JNR1001MG</td>\n",
       "      <td>USR1012</td>\n",
       "      <td>conversion</td>\n",
       "      <td>1/19/2022</td>\n",
       "      <td>successful</td>\n",
       "      <td>successful_conversion</td>\n",
       "    </tr>\n",
       "    <tr>\n",
       "      <th>72</th>\n",
       "      <td>JNR1001MG</td>\n",
       "      <td>USR1013</td>\n",
       "      <td>conversion</td>\n",
       "      <td>1/21/2022</td>\n",
       "      <td>successful</td>\n",
       "      <td>successful_conversion</td>\n",
       "    </tr>\n",
       "  </tbody>\n",
       "</table>\n",
       "</div>"
      ],
      "text/plain": [
       "    jnr_sm_id  lead_id  lead_stage call_done_date call_status  \\\n",
       "9   JNR1001MG  USR1002  conversion       1/7/2022  successful   \n",
       "33  JNR1001MG  USR1007  conversion      1/14/2022  successful   \n",
       "54  JNR1001MG  USR1011  conversion      1/22/2022  successful   \n",
       "62  JNR1001MG  USR1012  conversion      1/19/2022  successful   \n",
       "72  JNR1001MG  USR1013  conversion      1/21/2022  successful   \n",
       "\n",
       "              call_reason  \n",
       "9   successful_conversion  \n",
       "33  successful_conversion  \n",
       "54  successful_conversion  \n",
       "62  successful_conversion  \n",
       "72  successful_conversion  "
      ]
     },
     "execution_count": 45,
     "metadata": {},
     "output_type": "execute_result"
    }
   ],
   "source": [
    "converted = df3[df3['lead_stage']=='conversion']\n",
    "converted.head()"
   ]
  },
  {
   "cell_type": "code",
   "execution_count": 46,
   "id": "4c44cb67",
   "metadata": {},
   "outputs": [
    {
     "data": {
      "text/plain": [
       "(64, 6)"
      ]
     },
     "execution_count": 46,
     "metadata": {},
     "output_type": "execute_result"
    }
   ],
   "source": [
    "converted.shape"
   ]
  },
  {
   "cell_type": "code",
   "execution_count": 47,
   "id": "be58209b",
   "metadata": {},
   "outputs": [
    {
     "data": {
      "text/html": [
       "<div>\n",
       "<style scoped>\n",
       "    .dataframe tbody tr th:only-of-type {\n",
       "        vertical-align: middle;\n",
       "    }\n",
       "\n",
       "    .dataframe tbody tr th {\n",
       "        vertical-align: top;\n",
       "    }\n",
       "\n",
       "    .dataframe thead th {\n",
       "        text-align: right;\n",
       "    }\n",
       "</style>\n",
       "<table border=\"1\" class=\"dataframe\">\n",
       "  <thead>\n",
       "    <tr style=\"text-align: right;\">\n",
       "      <th></th>\n",
       "      <th>lead_id</th>\n",
       "      <th>age</th>\n",
       "      <th>gender</th>\n",
       "      <th>current_city</th>\n",
       "      <th>current_education</th>\n",
       "      <th>parent_occupation</th>\n",
       "      <th>lead_gen_source</th>\n",
       "      <th>jnr_sm_id</th>\n",
       "      <th>lead_stage</th>\n",
       "      <th>call_done_date</th>\n",
       "      <th>call_status</th>\n",
       "      <th>call_reason</th>\n",
       "    </tr>\n",
       "  </thead>\n",
       "  <tbody>\n",
       "    <tr>\n",
       "      <th>0</th>\n",
       "      <td>USR1002</td>\n",
       "      <td>20</td>\n",
       "      <td>MALE</td>\n",
       "      <td>Bengaluru</td>\n",
       "      <td>B.Tech</td>\n",
       "      <td>Business</td>\n",
       "      <td>user_referrals</td>\n",
       "      <td>JNR1001MG</td>\n",
       "      <td>conversion</td>\n",
       "      <td>1/7/2022</td>\n",
       "      <td>successful</td>\n",
       "      <td>successful_conversion</td>\n",
       "    </tr>\n",
       "    <tr>\n",
       "      <th>1</th>\n",
       "      <td>USR1007</td>\n",
       "      <td>16</td>\n",
       "      <td>FEMALE</td>\n",
       "      <td>Hyderabad</td>\n",
       "      <td>Intermediate</td>\n",
       "      <td>Professor/Faculty</td>\n",
       "      <td>social_media</td>\n",
       "      <td>JNR1001MG</td>\n",
       "      <td>conversion</td>\n",
       "      <td>1/14/2022</td>\n",
       "      <td>successful</td>\n",
       "      <td>successful_conversion</td>\n",
       "    </tr>\n",
       "    <tr>\n",
       "      <th>2</th>\n",
       "      <td>USR1011</td>\n",
       "      <td>20</td>\n",
       "      <td>FEMALE</td>\n",
       "      <td>Hyderabad</td>\n",
       "      <td>B.Tech</td>\n",
       "      <td>Private Employee</td>\n",
       "      <td>website</td>\n",
       "      <td>JNR1001MG</td>\n",
       "      <td>conversion</td>\n",
       "      <td>1/22/2022</td>\n",
       "      <td>successful</td>\n",
       "      <td>successful_conversion</td>\n",
       "    </tr>\n",
       "    <tr>\n",
       "      <th>3</th>\n",
       "      <td>USR1012</td>\n",
       "      <td>20</td>\n",
       "      <td>FEMALE</td>\n",
       "      <td>Hyderabad</td>\n",
       "      <td>B.Tech</td>\n",
       "      <td>Business</td>\n",
       "      <td>social_media</td>\n",
       "      <td>JNR1001MG</td>\n",
       "      <td>conversion</td>\n",
       "      <td>1/19/2022</td>\n",
       "      <td>successful</td>\n",
       "      <td>successful_conversion</td>\n",
       "    </tr>\n",
       "    <tr>\n",
       "      <th>4</th>\n",
       "      <td>USR1013</td>\n",
       "      <td>21</td>\n",
       "      <td>FEMALE</td>\n",
       "      <td>Hyderabad</td>\n",
       "      <td>Degree</td>\n",
       "      <td>Lawyer</td>\n",
       "      <td>SEO</td>\n",
       "      <td>JNR1001MG</td>\n",
       "      <td>conversion</td>\n",
       "      <td>1/21/2022</td>\n",
       "      <td>successful</td>\n",
       "      <td>successful_conversion</td>\n",
       "    </tr>\n",
       "    <tr>\n",
       "      <th>...</th>\n",
       "      <td>...</td>\n",
       "      <td>...</td>\n",
       "      <td>...</td>\n",
       "      <td>...</td>\n",
       "      <td>...</td>\n",
       "      <td>...</td>\n",
       "      <td>...</td>\n",
       "      <td>...</td>\n",
       "      <td>...</td>\n",
       "      <td>...</td>\n",
       "      <td>...</td>\n",
       "      <td>...</td>\n",
       "    </tr>\n",
       "    <tr>\n",
       "      <th>59</th>\n",
       "      <td>USR1311</td>\n",
       "      <td>20</td>\n",
       "      <td>FEMALE</td>\n",
       "      <td>Kochi</td>\n",
       "      <td>B.Tech</td>\n",
       "      <td>Private Employee</td>\n",
       "      <td>website</td>\n",
       "      <td>JNR1016MG</td>\n",
       "      <td>conversion</td>\n",
       "      <td>1/21/2022</td>\n",
       "      <td>successful</td>\n",
       "      <td>successful_conversion</td>\n",
       "    </tr>\n",
       "    <tr>\n",
       "      <th>60</th>\n",
       "      <td>USR1312</td>\n",
       "      <td>20</td>\n",
       "      <td>FEMALE</td>\n",
       "      <td>Kochi</td>\n",
       "      <td>B.Tech</td>\n",
       "      <td>Business</td>\n",
       "      <td>social_media</td>\n",
       "      <td>JNR1016MG</td>\n",
       "      <td>conversion</td>\n",
       "      <td>1/18/2022</td>\n",
       "      <td>successful</td>\n",
       "      <td>successful_conversion</td>\n",
       "    </tr>\n",
       "    <tr>\n",
       "      <th>61</th>\n",
       "      <td>USR1313</td>\n",
       "      <td>21</td>\n",
       "      <td>FEMALE</td>\n",
       "      <td>Kochi</td>\n",
       "      <td>Degree</td>\n",
       "      <td>Lawyer</td>\n",
       "      <td>SEO</td>\n",
       "      <td>JNR1016MG</td>\n",
       "      <td>conversion</td>\n",
       "      <td>1/21/2022</td>\n",
       "      <td>successful</td>\n",
       "      <td>successful_conversion</td>\n",
       "    </tr>\n",
       "    <tr>\n",
       "      <th>62</th>\n",
       "      <td>USR1314</td>\n",
       "      <td>22</td>\n",
       "      <td>MALE</td>\n",
       "      <td>Mumbai</td>\n",
       "      <td>Looking for Job</td>\n",
       "      <td>IT Employee</td>\n",
       "      <td>SEO</td>\n",
       "      <td>JNR1016MG</td>\n",
       "      <td>conversion</td>\n",
       "      <td>1/20/2022</td>\n",
       "      <td>successful</td>\n",
       "      <td>successful_conversion</td>\n",
       "    </tr>\n",
       "    <tr>\n",
       "      <th>63</th>\n",
       "      <td>USR1317</td>\n",
       "      <td>24</td>\n",
       "      <td>MALE</td>\n",
       "      <td>Mumbai</td>\n",
       "      <td>Looking for Job</td>\n",
       "      <td>Lawyer</td>\n",
       "      <td>social_media</td>\n",
       "      <td>JNR1016MG</td>\n",
       "      <td>conversion</td>\n",
       "      <td>2/26/2022</td>\n",
       "      <td>successful</td>\n",
       "      <td>successful_conversion</td>\n",
       "    </tr>\n",
       "  </tbody>\n",
       "</table>\n",
       "<p>64 rows × 12 columns</p>\n",
       "</div>"
      ],
      "text/plain": [
       "    lead_id  age  gender current_city current_education  parent_occupation  \\\n",
       "0   USR1002   20    MALE    Bengaluru            B.Tech           Business   \n",
       "1   USR1007   16  FEMALE    Hyderabad      Intermediate  Professor/Faculty   \n",
       "2   USR1011   20  FEMALE    Hyderabad            B.Tech   Private Employee   \n",
       "3   USR1012   20  FEMALE    Hyderabad            B.Tech           Business   \n",
       "4   USR1013   21  FEMALE    Hyderabad            Degree             Lawyer   \n",
       "..      ...  ...     ...          ...               ...                ...   \n",
       "59  USR1311   20  FEMALE        Kochi            B.Tech   Private Employee   \n",
       "60  USR1312   20  FEMALE        Kochi            B.Tech           Business   \n",
       "61  USR1313   21  FEMALE        Kochi            Degree             Lawyer   \n",
       "62  USR1314   22    MALE       Mumbai   Looking for Job        IT Employee   \n",
       "63  USR1317   24    MALE       Mumbai   Looking for Job             Lawyer   \n",
       "\n",
       "   lead_gen_source  jnr_sm_id  lead_stage call_done_date call_status  \\\n",
       "0   user_referrals  JNR1001MG  conversion       1/7/2022  successful   \n",
       "1     social_media  JNR1001MG  conversion      1/14/2022  successful   \n",
       "2          website  JNR1001MG  conversion      1/22/2022  successful   \n",
       "3     social_media  JNR1001MG  conversion      1/19/2022  successful   \n",
       "4              SEO  JNR1001MG  conversion      1/21/2022  successful   \n",
       "..             ...        ...         ...            ...         ...   \n",
       "59         website  JNR1016MG  conversion      1/21/2022  successful   \n",
       "60    social_media  JNR1016MG  conversion      1/18/2022  successful   \n",
       "61             SEO  JNR1016MG  conversion      1/21/2022  successful   \n",
       "62             SEO  JNR1016MG  conversion      1/20/2022  successful   \n",
       "63    social_media  JNR1016MG  conversion      2/26/2022  successful   \n",
       "\n",
       "              call_reason  \n",
       "0   successful_conversion  \n",
       "1   successful_conversion  \n",
       "2   successful_conversion  \n",
       "3   successful_conversion  \n",
       "4   successful_conversion  \n",
       "..                    ...  \n",
       "59  successful_conversion  \n",
       "60  successful_conversion  \n",
       "61  successful_conversion  \n",
       "62  successful_conversion  \n",
       "63  successful_conversion  \n",
       "\n",
       "[64 rows x 12 columns]"
      ]
     },
     "execution_count": 47,
     "metadata": {},
     "output_type": "execute_result"
    }
   ],
   "source": [
    "converted_leads = pd.merge(df1, converted, how='inner',on='lead_id')\n",
    "converted_leads"
   ]
  },
  {
   "cell_type": "code",
   "execution_count": 48,
   "id": "c4514b49",
   "metadata": {},
   "outputs": [
    {
     "name": "stdout",
     "output_type": "stream",
     "text": [
      "<class 'pandas.core.frame.DataFrame'>\n",
      "Int64Index: 64 entries, 0 to 63\n",
      "Data columns (total 12 columns):\n",
      " #   Column             Non-Null Count  Dtype \n",
      "---  ------             --------------  ----- \n",
      " 0   lead_id            64 non-null     object\n",
      " 1   age                64 non-null     int64 \n",
      " 2   gender             64 non-null     object\n",
      " 3   current_city       64 non-null     object\n",
      " 4   current_education  64 non-null     object\n",
      " 5   parent_occupation  64 non-null     object\n",
      " 6   lead_gen_source    64 non-null     object\n",
      " 7   jnr_sm_id          64 non-null     object\n",
      " 8   lead_stage         64 non-null     object\n",
      " 9   call_done_date     64 non-null     object\n",
      " 10  call_status        64 non-null     object\n",
      " 11  call_reason        64 non-null     object\n",
      "dtypes: int64(1), object(11)\n",
      "memory usage: 6.5+ KB\n"
     ]
    }
   ],
   "source": [
    "converted_leads.info()"
   ]
  },
  {
   "cell_type": "code",
   "execution_count": 49,
   "id": "8fc42a28",
   "metadata": {
    "scrolled": false
   },
   "outputs": [
    {
     "data": {
      "text/plain": [
       "<AxesSubplot:xlabel='current_city', ylabel='count'>"
      ]
     },
     "execution_count": 49,
     "metadata": {},
     "output_type": "execute_result"
    },
    {
     "data": {
      "image/png": "[encoded data removed]",
      "text/plain": [
       "<Figure size 1000x500 with 1 Axes>"
      ]
     },
     "metadata": {},
     "output_type": "display_data"
    }
   ],
   "source": [
    "plt.figure(figsize=(10,5))\n",
    "sns.countplot(data=converted_leads, x='current_city')"
   ]
  },
  {
   "cell_type": "code",
   "execution_count": 89,
   "id": "b2154765",
   "metadata": {},
   "outputs": [
    {
     "data": {
      "text/plain": [
       "current_city\n",
       "Bengaluru        15\n",
       "Chennai           7\n",
       "Hyderabad        13\n",
       "Kochi             9\n",
       "Mumbai            5\n",
       "Visakhapatnam    15\n",
       "Name: lead_id, dtype: int64"
      ]
     },
     "execution_count": 89,
     "metadata": {},
     "output_type": "execute_result"
    }
   ],
   "source": [
    "converted_leads.groupby('current_city')['lead_id'].count()"
   ]
  },
  {
   "cell_type": "markdown",
   "id": "b5e6f520",
   "metadata": {},
   "source": [
    "### Location analysis from those who were converted:\n",
    "1) Out of the leads who were succesfully converted, the highest number of people are coming from Vishakapatnam and Bengaluru.\n",
    "\n",
    "2) Initially Bengaluru only ranked 4th in the 'leads_basic_details' dataframe. Even then, the number of people who got converted from Bengaluru match Vishakpatnam. Hyderbad ranked second but the turnover percentage is very less.\n",
    "\n",
    "3) This means that Bengaluru has to be given more attention to get more users"
   ]
  },
  {
   "cell_type": "code",
   "execution_count": 50,
   "id": "b31e96b6",
   "metadata": {},
   "outputs": [
    {
     "data": {
      "text/plain": [
       "<AxesSubplot:xlabel='lead_gen_source', ylabel='count'>"
      ]
     },
     "execution_count": 50,
     "metadata": {},
     "output_type": "execute_result"
    },
    {
     "data": {
      "image/png": "[encoded data removed]",
      "text/plain": [
       "<Figure size 1000x500 with 1 Axes>"
      ]
     },
     "metadata": {},
     "output_type": "display_data"
    }
   ],
   "source": [
    "plt.figure(figsize=(10,5))\n",
    "sns.countplot(data=converted_leads, x='lead_gen_source')"
   ]
  },
  {
   "cell_type": "markdown",
   "id": "798dc89d",
   "metadata": {},
   "source": [
    "Marketing analysis from those who were converted:\n",
    "Email marketing seems to be the way majority of the leads who were converted got informed about the company"
   ]
  },
  {
   "cell_type": "markdown",
   "id": "30e3081f",
   "metadata": {},
   "source": [
    "### Gender analysis on converted leads:"
   ]
  },
  {
   "cell_type": "code",
   "execution_count": 51,
   "id": "82bfba29",
   "metadata": {},
   "outputs": [
    {
     "data": {
      "text/plain": [
       "<AxesSubplot:xlabel='gender', ylabel='count'>"
      ]
     },
     "execution_count": 51,
     "metadata": {},
     "output_type": "execute_result"
    },
    {
     "data": {
      "image/png": "[encoded data removed]",
      "text/plain": [
       "<Figure size 640x480 with 1 Axes>"
      ]
     },
     "metadata": {},
     "output_type": "display_data"
    }
   ],
   "source": [
    "sns.countplot(data=converted_leads, x='gender')"
   ]
  },
  {
   "cell_type": "markdown",
   "id": "c2586d75",
   "metadata": {},
   "source": [
    "### Age analysis on converted leads:"
   ]
  },
  {
   "cell_type": "code",
   "execution_count": 52,
   "id": "07ac01de",
   "metadata": {},
   "outputs": [
    {
     "data": {
      "text/plain": [
       "<AxesSubplot:xlabel='age', ylabel='count'>"
      ]
     },
     "execution_count": 52,
     "metadata": {},
     "output_type": "execute_result"
    },
    {
     "data": {
      "image/png": "[encoded data removed]",
      "text/plain": [
       "<Figure size 640x480 with 1 Axes>"
      ]
     },
     "metadata": {},
     "output_type": "display_data"
    }
   ],
   "source": [
    "sns.countplot(data=converted_leads, x='age')"
   ]
  },
  {
   "cell_type": "markdown",
   "id": "dd946c8d",
   "metadata": {},
   "source": [
    "Most of the leads who got converted happen to be 18-21 years old."
   ]
  },
  {
   "cell_type": "markdown",
   "id": "1ab698c3",
   "metadata": {},
   "source": [
    "## Sales manager assigned leads analysis"
   ]
  },
  {
   "cell_type": "code",
   "execution_count": 53,
   "id": "5b665549",
   "metadata": {},
   "outputs": [
    {
     "data": {
      "text/plain": [
       "<AxesSubplot:xlabel='jnr_sm_id', ylabel='count'>"
      ]
     },
     "execution_count": 53,
     "metadata": {},
     "output_type": "execute_result"
    },
    {
     "data": {
      "image/png": "[encoded data removed]",
      "text/plain": [
       "<Figure size 2500x700 with 1 Axes>"
      ]
     },
     "metadata": {},
     "output_type": "display_data"
    }
   ],
   "source": [
    "plt.figure(figsize=(25,7))\n",
    "sns.countplot(data=converted_leads, x='jnr_sm_id') #checking the best performed junior sales manager"
   ]
  },
  {
   "cell_type": "code",
   "execution_count": 54,
   "id": "e1f42952",
   "metadata": {},
   "outputs": [
    {
     "data": {
      "text/plain": [
       "jnr_sm_id\n",
       "JNR1001MG    6\n",
       "JNR1002MG    7\n",
       "JNR1003MG    6\n",
       "JNR1004MG    4\n",
       "JNR1005MG    2\n",
       "JNR1006MG    4\n",
       "JNR1007MG    2\n",
       "JNR1008MG    4\n",
       "JNR1009MG    2\n",
       "JNR1010MG    4\n",
       "JNR1011MG    2\n",
       "JNR1012MG    4\n",
       "JNR1013MG    2\n",
       "JNR1014MG    4\n",
       "JNR1015MG    3\n",
       "JNR1016MG    8\n",
       "Name: call_status, dtype: int64"
      ]
     },
     "execution_count": 54,
     "metadata": {},
     "output_type": "execute_result"
    }
   ],
   "source": [
    "converted_leads.groupby('jnr_sm_id').count()['call_status']"
   ]
  },
  {
   "cell_type": "markdown",
   "id": "316f695d",
   "metadata": {},
   "source": [
    "Junior sales manager with jnr_sm_id JNR1016MG seems to be the best performing one followed by JNR1002MG and JNR1001MG"
   ]
  },
  {
   "cell_type": "code",
   "execution_count": 55,
   "id": "9e1b97bf",
   "metadata": {},
   "outputs": [],
   "source": [
    "junior_managers = converted_leads.groupby('jnr_sm_id').count()['call_status']"
   ]
  },
  {
   "cell_type": "code",
   "execution_count": 56,
   "id": "fe057394",
   "metadata": {},
   "outputs": [
    {
     "data": {
      "text/html": [
       "<div>\n",
       "<style scoped>\n",
       "    .dataframe tbody tr th:only-of-type {\n",
       "        vertical-align: middle;\n",
       "    }\n",
       "\n",
       "    .dataframe tbody tr th {\n",
       "        vertical-align: top;\n",
       "    }\n",
       "\n",
       "    .dataframe thead th {\n",
       "        text-align: right;\n",
       "    }\n",
       "</style>\n",
       "<table border=\"1\" class=\"dataframe\">\n",
       "  <thead>\n",
       "    <tr style=\"text-align: right;\">\n",
       "      <th></th>\n",
       "      <th>snr_sm_id</th>\n",
       "      <th>jnr_sm_id</th>\n",
       "      <th>assigned_date</th>\n",
       "      <th>cycle</th>\n",
       "      <th>lead_id</th>\n",
       "      <th>call_status</th>\n",
       "    </tr>\n",
       "  </thead>\n",
       "  <tbody>\n",
       "    <tr>\n",
       "      <th>0</th>\n",
       "      <td>SNR501MG</td>\n",
       "      <td>JNR1001MG</td>\n",
       "      <td>1/1/2022</td>\n",
       "      <td>1</td>\n",
       "      <td>USR1001</td>\n",
       "      <td>6</td>\n",
       "    </tr>\n",
       "    <tr>\n",
       "      <th>1</th>\n",
       "      <td>SNR501MG</td>\n",
       "      <td>JNR1001MG</td>\n",
       "      <td>1/1/2022</td>\n",
       "      <td>1</td>\n",
       "      <td>USR1002</td>\n",
       "      <td>6</td>\n",
       "    </tr>\n",
       "    <tr>\n",
       "      <th>2</th>\n",
       "      <td>SNR501MG</td>\n",
       "      <td>JNR1001MG</td>\n",
       "      <td>1/1/2022</td>\n",
       "      <td>1</td>\n",
       "      <td>USR1003</td>\n",
       "      <td>6</td>\n",
       "    </tr>\n",
       "    <tr>\n",
       "      <th>3</th>\n",
       "      <td>SNR501MG</td>\n",
       "      <td>JNR1001MG</td>\n",
       "      <td>1/1/2022</td>\n",
       "      <td>1</td>\n",
       "      <td>USR1004</td>\n",
       "      <td>6</td>\n",
       "    </tr>\n",
       "    <tr>\n",
       "      <th>4</th>\n",
       "      <td>SNR501MG</td>\n",
       "      <td>JNR1001MG</td>\n",
       "      <td>1/1/2022</td>\n",
       "      <td>1</td>\n",
       "      <td>USR1005</td>\n",
       "      <td>6</td>\n",
       "    </tr>\n",
       "    <tr>\n",
       "      <th>...</th>\n",
       "      <td>...</td>\n",
       "      <td>...</td>\n",
       "      <td>...</td>\n",
       "      <td>...</td>\n",
       "      <td>...</td>\n",
       "      <td>...</td>\n",
       "    </tr>\n",
       "    <tr>\n",
       "      <th>355</th>\n",
       "      <td>SNR504MG</td>\n",
       "      <td>JNR1016MG</td>\n",
       "      <td>1/8/2022</td>\n",
       "      <td>2</td>\n",
       "      <td>USR1330</td>\n",
       "      <td>8</td>\n",
       "    </tr>\n",
       "    <tr>\n",
       "      <th>356</th>\n",
       "      <td>SNR504MG</td>\n",
       "      <td>JNR1016MG</td>\n",
       "      <td>1/15/2022</td>\n",
       "      <td>3</td>\n",
       "      <td>USR1331</td>\n",
       "      <td>8</td>\n",
       "    </tr>\n",
       "    <tr>\n",
       "      <th>357</th>\n",
       "      <td>SNR504MG</td>\n",
       "      <td>JNR1016MG</td>\n",
       "      <td>2/19/2022</td>\n",
       "      <td>4</td>\n",
       "      <td>USR1332</td>\n",
       "      <td>8</td>\n",
       "    </tr>\n",
       "    <tr>\n",
       "      <th>358</th>\n",
       "      <td>SNR504MG</td>\n",
       "      <td>JNR1016MG</td>\n",
       "      <td>1/1/2022</td>\n",
       "      <td>1</td>\n",
       "      <td>USR1333</td>\n",
       "      <td>8</td>\n",
       "    </tr>\n",
       "    <tr>\n",
       "      <th>359</th>\n",
       "      <td>SNR504MG</td>\n",
       "      <td>JNR1016MG</td>\n",
       "      <td>1/8/2022</td>\n",
       "      <td>2</td>\n",
       "      <td>USR1334</td>\n",
       "      <td>8</td>\n",
       "    </tr>\n",
       "  </tbody>\n",
       "</table>\n",
       "<p>360 rows × 6 columns</p>\n",
       "</div>"
      ],
      "text/plain": [
       "    snr_sm_id  jnr_sm_id assigned_date  cycle  lead_id  call_status\n",
       "0    SNR501MG  JNR1001MG      1/1/2022      1  USR1001            6\n",
       "1    SNR501MG  JNR1001MG      1/1/2022      1  USR1002            6\n",
       "2    SNR501MG  JNR1001MG      1/1/2022      1  USR1003            6\n",
       "3    SNR501MG  JNR1001MG      1/1/2022      1  USR1004            6\n",
       "4    SNR501MG  JNR1001MG      1/1/2022      1  USR1005            6\n",
       "..        ...        ...           ...    ...      ...          ...\n",
       "355  SNR504MG  JNR1016MG      1/8/2022      2  USR1330            8\n",
       "356  SNR504MG  JNR1016MG     1/15/2022      3  USR1331            8\n",
       "357  SNR504MG  JNR1016MG     2/19/2022      4  USR1332            8\n",
       "358  SNR504MG  JNR1016MG      1/1/2022      1  USR1333            8\n",
       "359  SNR504MG  JNR1016MG      1/8/2022      2  USR1334            8\n",
       "\n",
       "[360 rows x 6 columns]"
      ]
     },
     "execution_count": 56,
     "metadata": {},
     "output_type": "execute_result"
    }
   ],
   "source": [
    "sales = pd.merge(df2, junior_managers, how='inner', on='jnr_sm_id')\n",
    "sales"
   ]
  },
  {
   "cell_type": "code",
   "execution_count": 57,
   "id": "1095d158",
   "metadata": {},
   "outputs": [
    {
     "data": {
      "text/html": [
       "<div>\n",
       "<style scoped>\n",
       "    .dataframe tbody tr th:only-of-type {\n",
       "        vertical-align: middle;\n",
       "    }\n",
       "\n",
       "    .dataframe tbody tr th {\n",
       "        vertical-align: top;\n",
       "    }\n",
       "\n",
       "    .dataframe thead th {\n",
       "        text-align: right;\n",
       "    }\n",
       "</style>\n",
       "<table border=\"1\" class=\"dataframe\">\n",
       "  <thead>\n",
       "    <tr style=\"text-align: right;\">\n",
       "      <th></th>\n",
       "      <th>snr_sm_id</th>\n",
       "      <th>jnr_sm_id</th>\n",
       "      <th>assigned_date</th>\n",
       "      <th>cycle</th>\n",
       "      <th>lead_id</th>\n",
       "      <th>call_status</th>\n",
       "    </tr>\n",
       "  </thead>\n",
       "  <tbody>\n",
       "    <tr>\n",
       "      <th>333</th>\n",
       "      <td>SNR504MG</td>\n",
       "      <td>JNR1016MG</td>\n",
       "      <td>1/1/2022</td>\n",
       "      <td>1</td>\n",
       "      <td>USR1301</td>\n",
       "      <td>8</td>\n",
       "    </tr>\n",
       "    <tr>\n",
       "      <th>334</th>\n",
       "      <td>SNR504MG</td>\n",
       "      <td>JNR1016MG</td>\n",
       "      <td>1/1/2022</td>\n",
       "      <td>1</td>\n",
       "      <td>USR1302</td>\n",
       "      <td>8</td>\n",
       "    </tr>\n",
       "    <tr>\n",
       "      <th>335</th>\n",
       "      <td>SNR504MG</td>\n",
       "      <td>JNR1016MG</td>\n",
       "      <td>1/1/2022</td>\n",
       "      <td>1</td>\n",
       "      <td>USR1303</td>\n",
       "      <td>8</td>\n",
       "    </tr>\n",
       "    <tr>\n",
       "      <th>336</th>\n",
       "      <td>SNR504MG</td>\n",
       "      <td>JNR1016MG</td>\n",
       "      <td>1/1/2022</td>\n",
       "      <td>1</td>\n",
       "      <td>USR1304</td>\n",
       "      <td>8</td>\n",
       "    </tr>\n",
       "    <tr>\n",
       "      <th>337</th>\n",
       "      <td>SNR504MG</td>\n",
       "      <td>JNR1016MG</td>\n",
       "      <td>1/1/2022</td>\n",
       "      <td>1</td>\n",
       "      <td>USR1305</td>\n",
       "      <td>8</td>\n",
       "    </tr>\n",
       "    <tr>\n",
       "      <th>338</th>\n",
       "      <td>SNR504MG</td>\n",
       "      <td>JNR1016MG</td>\n",
       "      <td>1/8/2022</td>\n",
       "      <td>2</td>\n",
       "      <td>USR1306</td>\n",
       "      <td>8</td>\n",
       "    </tr>\n",
       "    <tr>\n",
       "      <th>339</th>\n",
       "      <td>SNR504MG</td>\n",
       "      <td>JNR1016MG</td>\n",
       "      <td>1/8/2022</td>\n",
       "      <td>2</td>\n",
       "      <td>USR1307</td>\n",
       "      <td>8</td>\n",
       "    </tr>\n",
       "    <tr>\n",
       "      <th>340</th>\n",
       "      <td>SNR504MG</td>\n",
       "      <td>JNR1016MG</td>\n",
       "      <td>1/8/2022</td>\n",
       "      <td>2</td>\n",
       "      <td>USR1308</td>\n",
       "      <td>8</td>\n",
       "    </tr>\n",
       "    <tr>\n",
       "      <th>341</th>\n",
       "      <td>SNR504MG</td>\n",
       "      <td>JNR1016MG</td>\n",
       "      <td>1/8/2022</td>\n",
       "      <td>2</td>\n",
       "      <td>USR1309</td>\n",
       "      <td>8</td>\n",
       "    </tr>\n",
       "    <tr>\n",
       "      <th>342</th>\n",
       "      <td>SNR504MG</td>\n",
       "      <td>JNR1016MG</td>\n",
       "      <td>1/8/2022</td>\n",
       "      <td>2</td>\n",
       "      <td>USR1310</td>\n",
       "      <td>8</td>\n",
       "    </tr>\n",
       "    <tr>\n",
       "      <th>343</th>\n",
       "      <td>SNR504MG</td>\n",
       "      <td>JNR1016MG</td>\n",
       "      <td>1/15/2022</td>\n",
       "      <td>3</td>\n",
       "      <td>USR1311</td>\n",
       "      <td>8</td>\n",
       "    </tr>\n",
       "    <tr>\n",
       "      <th>344</th>\n",
       "      <td>SNR504MG</td>\n",
       "      <td>JNR1016MG</td>\n",
       "      <td>1/15/2022</td>\n",
       "      <td>3</td>\n",
       "      <td>USR1312</td>\n",
       "      <td>8</td>\n",
       "    </tr>\n",
       "    <tr>\n",
       "      <th>345</th>\n",
       "      <td>SNR504MG</td>\n",
       "      <td>JNR1016MG</td>\n",
       "      <td>1/15/2022</td>\n",
       "      <td>3</td>\n",
       "      <td>USR1313</td>\n",
       "      <td>8</td>\n",
       "    </tr>\n",
       "    <tr>\n",
       "      <th>346</th>\n",
       "      <td>SNR504MG</td>\n",
       "      <td>JNR1016MG</td>\n",
       "      <td>1/15/2022</td>\n",
       "      <td>3</td>\n",
       "      <td>USR1314</td>\n",
       "      <td>8</td>\n",
       "    </tr>\n",
       "    <tr>\n",
       "      <th>347</th>\n",
       "      <td>SNR504MG</td>\n",
       "      <td>JNR1016MG</td>\n",
       "      <td>1/15/2022</td>\n",
       "      <td>3</td>\n",
       "      <td>USR1315</td>\n",
       "      <td>8</td>\n",
       "    </tr>\n",
       "    <tr>\n",
       "      <th>348</th>\n",
       "      <td>SNR504MG</td>\n",
       "      <td>JNR1016MG</td>\n",
       "      <td>2/19/2022</td>\n",
       "      <td>4</td>\n",
       "      <td>USR1316</td>\n",
       "      <td>8</td>\n",
       "    </tr>\n",
       "    <tr>\n",
       "      <th>349</th>\n",
       "      <td>SNR504MG</td>\n",
       "      <td>JNR1016MG</td>\n",
       "      <td>2/19/2022</td>\n",
       "      <td>4</td>\n",
       "      <td>USR1317</td>\n",
       "      <td>8</td>\n",
       "    </tr>\n",
       "    <tr>\n",
       "      <th>350</th>\n",
       "      <td>SNR504MG</td>\n",
       "      <td>JNR1016MG</td>\n",
       "      <td>2/19/2022</td>\n",
       "      <td>4</td>\n",
       "      <td>USR1318</td>\n",
       "      <td>8</td>\n",
       "    </tr>\n",
       "    <tr>\n",
       "      <th>351</th>\n",
       "      <td>SNR504MG</td>\n",
       "      <td>JNR1016MG</td>\n",
       "      <td>2/19/2022</td>\n",
       "      <td>4</td>\n",
       "      <td>USR1319</td>\n",
       "      <td>8</td>\n",
       "    </tr>\n",
       "    <tr>\n",
       "      <th>352</th>\n",
       "      <td>SNR504MG</td>\n",
       "      <td>JNR1016MG</td>\n",
       "      <td>2/19/2022</td>\n",
       "      <td>4</td>\n",
       "      <td>USR1320</td>\n",
       "      <td>8</td>\n",
       "    </tr>\n",
       "    <tr>\n",
       "      <th>353</th>\n",
       "      <td>SNR504MG</td>\n",
       "      <td>JNR1016MG</td>\n",
       "      <td>2/19/2022</td>\n",
       "      <td>4</td>\n",
       "      <td>USR1328</td>\n",
       "      <td>8</td>\n",
       "    </tr>\n",
       "    <tr>\n",
       "      <th>354</th>\n",
       "      <td>SNR504MG</td>\n",
       "      <td>JNR1016MG</td>\n",
       "      <td>1/1/2022</td>\n",
       "      <td>1</td>\n",
       "      <td>USR1329</td>\n",
       "      <td>8</td>\n",
       "    </tr>\n",
       "    <tr>\n",
       "      <th>355</th>\n",
       "      <td>SNR504MG</td>\n",
       "      <td>JNR1016MG</td>\n",
       "      <td>1/8/2022</td>\n",
       "      <td>2</td>\n",
       "      <td>USR1330</td>\n",
       "      <td>8</td>\n",
       "    </tr>\n",
       "    <tr>\n",
       "      <th>356</th>\n",
       "      <td>SNR504MG</td>\n",
       "      <td>JNR1016MG</td>\n",
       "      <td>1/15/2022</td>\n",
       "      <td>3</td>\n",
       "      <td>USR1331</td>\n",
       "      <td>8</td>\n",
       "    </tr>\n",
       "    <tr>\n",
       "      <th>357</th>\n",
       "      <td>SNR504MG</td>\n",
       "      <td>JNR1016MG</td>\n",
       "      <td>2/19/2022</td>\n",
       "      <td>4</td>\n",
       "      <td>USR1332</td>\n",
       "      <td>8</td>\n",
       "    </tr>\n",
       "    <tr>\n",
       "      <th>358</th>\n",
       "      <td>SNR504MG</td>\n",
       "      <td>JNR1016MG</td>\n",
       "      <td>1/1/2022</td>\n",
       "      <td>1</td>\n",
       "      <td>USR1333</td>\n",
       "      <td>8</td>\n",
       "    </tr>\n",
       "    <tr>\n",
       "      <th>359</th>\n",
       "      <td>SNR504MG</td>\n",
       "      <td>JNR1016MG</td>\n",
       "      <td>1/8/2022</td>\n",
       "      <td>2</td>\n",
       "      <td>USR1334</td>\n",
       "      <td>8</td>\n",
       "    </tr>\n",
       "  </tbody>\n",
       "</table>\n",
       "</div>"
      ],
      "text/plain": [
       "    snr_sm_id  jnr_sm_id assigned_date  cycle  lead_id  call_status\n",
       "333  SNR504MG  JNR1016MG      1/1/2022      1  USR1301            8\n",
       "334  SNR504MG  JNR1016MG      1/1/2022      1  USR1302            8\n",
       "335  SNR504MG  JNR1016MG      1/1/2022      1  USR1303            8\n",
       "336  SNR504MG  JNR1016MG      1/1/2022      1  USR1304            8\n",
       "337  SNR504MG  JNR1016MG      1/1/2022      1  USR1305            8\n",
       "338  SNR504MG  JNR1016MG      1/8/2022      2  USR1306            8\n",
       "339  SNR504MG  JNR1016MG      1/8/2022      2  USR1307            8\n",
       "340  SNR504MG  JNR1016MG      1/8/2022      2  USR1308            8\n",
       "341  SNR504MG  JNR1016MG      1/8/2022      2  USR1309            8\n",
       "342  SNR504MG  JNR1016MG      1/8/2022      2  USR1310            8\n",
       "343  SNR504MG  JNR1016MG     1/15/2022      3  USR1311            8\n",
       "344  SNR504MG  JNR1016MG     1/15/2022      3  USR1312            8\n",
       "345  SNR504MG  JNR1016MG     1/15/2022      3  USR1313            8\n",
       "346  SNR504MG  JNR1016MG     1/15/2022      3  USR1314            8\n",
       "347  SNR504MG  JNR1016MG     1/15/2022      3  USR1315            8\n",
       "348  SNR504MG  JNR1016MG     2/19/2022      4  USR1316            8\n",
       "349  SNR504MG  JNR1016MG     2/19/2022      4  USR1317            8\n",
       "350  SNR504MG  JNR1016MG     2/19/2022      4  USR1318            8\n",
       "351  SNR504MG  JNR1016MG     2/19/2022      4  USR1319            8\n",
       "352  SNR504MG  JNR1016MG     2/19/2022      4  USR1320            8\n",
       "353  SNR504MG  JNR1016MG     2/19/2022      4  USR1328            8\n",
       "354  SNR504MG  JNR1016MG      1/1/2022      1  USR1329            8\n",
       "355  SNR504MG  JNR1016MG      1/8/2022      2  USR1330            8\n",
       "356  SNR504MG  JNR1016MG     1/15/2022      3  USR1331            8\n",
       "357  SNR504MG  JNR1016MG     2/19/2022      4  USR1332            8\n",
       "358  SNR504MG  JNR1016MG      1/1/2022      1  USR1333            8\n",
       "359  SNR504MG  JNR1016MG      1/8/2022      2  USR1334            8"
      ]
     },
     "execution_count": 57,
     "metadata": {},
     "output_type": "execute_result"
    }
   ],
   "source": [
    "sales[sales['jnr_sm_id']=='JNR1016MG']"
   ]
  },
  {
   "cell_type": "markdown",
   "id": "0e2d98a7",
   "metadata": {},
   "source": [
    "### Leads reasons for no interest analysis"
   ]
  },
  {
   "cell_type": "code",
   "execution_count": 58,
   "id": "9970a3e2",
   "metadata": {},
   "outputs": [
    {
     "data": {
      "text/html": [
       "<div>\n",
       "<style scoped>\n",
       "    .dataframe tbody tr th:only-of-type {\n",
       "        vertical-align: middle;\n",
       "    }\n",
       "\n",
       "    .dataframe tbody tr th {\n",
       "        vertical-align: top;\n",
       "    }\n",
       "\n",
       "    .dataframe thead th {\n",
       "        text-align: right;\n",
       "    }\n",
       "</style>\n",
       "<table border=\"1\" class=\"dataframe\">\n",
       "  <thead>\n",
       "    <tr style=\"text-align: right;\">\n",
       "      <th></th>\n",
       "      <th>lead_id</th>\n",
       "      <th>reasons_for_not_interested_in_demo</th>\n",
       "      <th>reasons_for_not_interested_to_consider</th>\n",
       "      <th>reasons_for_not_interested_to_convert</th>\n",
       "    </tr>\n",
       "  </thead>\n",
       "  <tbody>\n",
       "    <tr>\n",
       "      <th>0</th>\n",
       "      <td>USR1001</td>\n",
       "      <td>No time for student</td>\n",
       "      <td>NaN</td>\n",
       "      <td>NaN</td>\n",
       "    </tr>\n",
       "    <tr>\n",
       "      <th>1</th>\n",
       "      <td>USR1003</td>\n",
       "      <td>NaN</td>\n",
       "      <td>No time for student</td>\n",
       "      <td>NaN</td>\n",
       "    </tr>\n",
       "    <tr>\n",
       "      <th>2</th>\n",
       "      <td>USR1004</td>\n",
       "      <td>NaN</td>\n",
       "      <td>Wants offline classes</td>\n",
       "      <td>NaN</td>\n",
       "    </tr>\n",
       "    <tr>\n",
       "      <th>3</th>\n",
       "      <td>USR1005</td>\n",
       "      <td>NaN</td>\n",
       "      <td>Can't afford</td>\n",
       "      <td>NaN</td>\n",
       "    </tr>\n",
       "    <tr>\n",
       "      <th>4</th>\n",
       "      <td>USR1006</td>\n",
       "      <td>NaN</td>\n",
       "      <td>Student not interested in domain</td>\n",
       "      <td>NaN</td>\n",
       "    </tr>\n",
       "  </tbody>\n",
       "</table>\n",
       "</div>"
      ],
      "text/plain": [
       "   lead_id reasons_for_not_interested_in_demo  \\\n",
       "0  USR1001                No time for student   \n",
       "1  USR1003                                NaN   \n",
       "2  USR1004                                NaN   \n",
       "3  USR1005                                NaN   \n",
       "4  USR1006                                NaN   \n",
       "\n",
       "  reasons_for_not_interested_to_consider reasons_for_not_interested_to_convert  \n",
       "0                                    NaN                                   NaN  \n",
       "1                    No time for student                                   NaN  \n",
       "2                  Wants offline classes                                   NaN  \n",
       "3                           Can't afford                                   NaN  \n",
       "4       Student not interested in domain                                   NaN  "
      ]
     },
     "execution_count": 58,
     "metadata": {},
     "output_type": "execute_result"
    }
   ],
   "source": [
    "df5.head()"
   ]
  },
  {
   "cell_type": "code",
   "execution_count": 59,
   "id": "7d6db56e",
   "metadata": {},
   "outputs": [
    {
     "data": {
      "text/plain": [
       "<AxesSubplot:>"
      ]
     },
     "execution_count": 59,
     "metadata": {},
     "output_type": "execute_result"
    },
    {
     "data": {
      "image/png": "[encoded data removed]",
      "text/plain": [
       "<Figure size 640x480 with 1 Axes>"
      ]
     },
     "metadata": {},
     "output_type": "display_data"
    }
   ],
   "source": [
    "sns.heatmap(df5.isnull(), yticklabels=False, cmap='plasma', cbar=False)"
   ]
  },
  {
   "cell_type": "code",
   "execution_count": 60,
   "id": "33c9dbca",
   "metadata": {},
   "outputs": [
    {
     "data": {
      "text/plain": [
       "lead_id                                     0\n",
       "reasons_for_not_interested_in_demo        130\n",
       "reasons_for_not_interested_to_consider    215\n",
       "reasons_for_not_interested_to_convert     243\n",
       "dtype: int64"
      ]
     },
     "execution_count": 60,
     "metadata": {},
     "output_type": "execute_result"
    }
   ],
   "source": [
    "df5.isnull().sum()"
   ]
  },
  {
   "cell_type": "code",
   "execution_count": 61,
   "id": "c2f1f386",
   "metadata": {},
   "outputs": [
    {
     "data": {
      "text/plain": [
       "array(['No time for student', nan, 'Student not interested in domain',\n",
       "       'Wants offline classes', \"Can't afford\", 'Cannot afford',\n",
       "       'Will join in final year'], dtype=object)"
      ]
     },
     "execution_count": 61,
     "metadata": {},
     "output_type": "execute_result"
    }
   ],
   "source": [
    "df5['reasons_for_not_interested_in_demo'].unique()"
   ]
  },
  {
   "cell_type": "code",
   "execution_count": 62,
   "id": "b22b8ab6",
   "metadata": {},
   "outputs": [],
   "source": [
    "df5['reasons_for_not_interested_in_demo'].replace({'Cannot afford':\"Can't afford\"}, inplace=True) #both are same"
   ]
  },
  {
   "cell_type": "code",
   "execution_count": 63,
   "id": "38f3c9d7",
   "metadata": {},
   "outputs": [
    {
     "data": {
      "text/plain": [
       "<AxesSubplot:>"
      ]
     },
     "execution_count": 63,
     "metadata": {},
     "output_type": "execute_result"
    },
    {
     "data": {
      "image/png": "[encoded data removed]",
      "text/plain": [
       "<Figure size 640x480 with 1 Axes>"
      ]
     },
     "metadata": {},
     "output_type": "display_data"
    }
   ],
   "source": [
    "df5.groupby('reasons_for_not_interested_in_demo').size().plot(kind='pie', autopct='%.2f', y='lead_id', ylabel='')"
   ]
  },
  {
   "cell_type": "code",
   "execution_count": 64,
   "id": "ec734450",
   "metadata": {},
   "outputs": [
    {
     "data": {
      "text/plain": [
       "<AxesSubplot:>"
      ]
     },
     "execution_count": 64,
     "metadata": {},
     "output_type": "execute_result"
    },
    {
     "data": {
      "image/png": "[encoded data removed]",
      "text/plain": [
       "<Figure size 640x480 with 1 Axes>"
      ]
     },
     "metadata": {},
     "output_type": "display_data"
    }
   ],
   "source": [
    "df5.groupby('reasons_for_not_interested_to_convert').size().plot(kind='pie', autopct='%.2f', y='lead_id', ylabel='')"
   ]
  },
  {
   "cell_type": "markdown",
   "id": "d87b511a",
   "metadata": {},
   "source": [
    "The most frequent reason for not being interested is affordability followed by preference of offline classes"
   ]
  },
  {
   "cell_type": "code",
   "execution_count": 93,
   "id": "0d070502",
   "metadata": {},
   "outputs": [
    {
     "data": {
      "text/plain": [
       "0"
      ]
     },
     "execution_count": 93,
     "metadata": {},
     "output_type": "execute_result"
    }
   ],
   "source": []
  },
  {
   "cell_type": "code",
   "execution_count": null,
   "id": "3c8c07ce",
   "metadata": {},
   "outputs": [],
   "source": []
  }
 ],
 "metadata": {
  "kernelspec": {
   "display_name": "Python 3 (ipykernel)",
   "language": "python",
   "name": "python3"
  },
  "language_info": {
   "codemirror_mode": {
    "name": "ipython",
    "version": 3
   },
   "file_extension": ".py",
   "mimetype": "text/x-python",
   "name": "python",
   "nbconvert_exporter": "python",
   "pygments_lexer": "ipython3",
   "version": "3.9.13"
  }
 },
 "nbformat": 4,
 "nbformat_minor": 5
}
